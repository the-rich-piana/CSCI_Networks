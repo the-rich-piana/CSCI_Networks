{
 "cells": [
  {
   "cell_type": "markdown",
   "metadata": {},
   "source": [
    "# CSCI 3352 Biological Networks, Spring 2022, Prof. Clauset\n",
    "Submit here: https://canvas.colorado.edu/courses/80370"
   ]
  },
  {
   "cell_type": "markdown",
   "metadata": {},
   "source": [
    "# Problem Set 2 : Network representations and statistics\n",
    "\n",
    "***\n",
    "\n",
    "**Name**: \n",
    "\n",
    "***\n",
    "\n",
    "This assignment is due on Canvas by **11:55pm on Friday, January 28th**. Your solutions to non-programming questions should be done in Markdown directly below the associated question. Your solutions to computational questions should include any specified Python code and results as well as written commentary on your conclusions.  Remember that you are encouraged to discuss the problems with your classmates, but **you must write all code and solutions on your own** (see syllabus for detailed guidance). There are 100 points total, and 17 pts extra credit.\n",
    "\n",
    "**NOTES**: \n",
    "\n",
    "- Unless a url is given for a data set, you will find the required data on the course Canvas.\n",
    "- If you're not familiar with typesetting math directly in Markdown, you may do your work on paper first and then typeset it later. This [reference guide](https://math.meta.stackexchange.com/questions/5020/mathjax-basic-tutorial-and-quick-reference) provides helpful guidance for writing math in Markdown. \n",
    "- It is **unhelpful** to make your reader interpret numerical output from your code.  If a question asks you to compute some value from the data you should show your code output **AND** write a summary of the results in Markdown directly below your code.\n",
    "\n",
    "***\n",
    "* [Documentation for networkx](https://networkx.github.io/documentation/stable/)\n",
    "\n",
    "[//]: <> (Documentation for igraph Python https://igraph.org/python/ )"
   ]
  },
  {
   "cell_type": "code",
   "execution_count": null,
   "metadata": {},
   "outputs": [],
   "source": [
    "import networkx as nx\n",
    "import numpy as np\n",
    "import matplotlib\n",
    "import matplotlib.pylab as plt\n",
    "%matplotlib inline"
   ]
  },
  {
   "cell_type": "markdown",
   "metadata": {},
   "source": [
    "***\n",
    "## Problem 1 : Counting motifs (55 pts total)\n",
    "\n",
    "Motifs are small subgraphs, often of 3 or 4 nodes, and their relative abundance can provide evidence for or against different underlying network assembly processes. Analyzing this kind of information depends on being able to count the number of occurrences of target motifs in a given network. In this problem, we'll develop such a counting algorithm."
   ]
  },
  {
   "cell_type": "markdown",
   "metadata": {},
   "source": [
    "***\n",
    "### Problem 1-A (30 pts)\n",
    "\n",
    "In directed networks, the two most commonly studied motifs are\n",
    "* feed-forward loop (\"FFL\")\n",
    "* cycle (sometimes called a feedback loop, or \"FBL\")\n",
    "\n",
    "For instance, below is a simple directed graph (a \"digraph\") that contains one of each: the FFL is among nodes $\\{1,2,3\\}$ and the FBL is among nodes $\\{4,5,6\\}$."
   ]
  },
  {
   "cell_type": "code",
   "execution_count": null,
   "metadata": {},
   "outputs": [],
   "source": [
    "G = nx.DiGraph([(1,2), (2,3), (1,3), (4,5), (5,6), (6,4)])                            # make a directed network\n",
    "nx.draw_networkx(G,arrows=True,with_labels=True,node_size=600,node_color='r',width=2) # draw it pretty\n",
    "limits=plt.axis('off')                                                                # turn off axes\n",
    "plt.show()                                                                            # show me the network!"
   ]
  },
  {
   "cell_type": "markdown",
   "metadata": {},
   "source": [
    "* Write a function `count_FFBL_motifs()` that takes as input a directed graph `G` and a binary value `flag` and\n",
    "  1. if `flag==1`, prints a statement of the form `FFL: (i,j),(j,k),(i,k)` or `FBL: (i,j),(j,k),(k,i)` for each FFL or non-unique FBL it finds, and\n",
    "  * returns the counts the number of FFL motifs and the number of FBL motifs that `G` contains. <br/>\n",
    "  \n",
    "* Apply your function to the network `G` defined below, with `flag=1`, and report the FFL and FBL motif counts.\n",
    "* Briefly explain how your algorithm for `count_FFBL_motifs()` works. (Note that the network is small enough that you can calculate the result by hand and use that information to debug your algorithm.)\n",
    "\n",
    "Hint: Use a graph traversal approach to enumerate all paths of length two, e.g. $\\sigma_{ijk} = \\{(i\\rightarrow j), (j \\rightarrow k)\\}$, where $i\\not=k$, and for each, query the network for the existence of the third edge of the motif, either $(i,k)$ or $(k,i)$ depending on which motif is being counted. Within the DiGraph structure of `networkx`, the `neighbors` and `has_edge` functions will be useful.\n",
    "\n",
    "*Warning*: remember that a single unique FBL motif can be counted 3 times, once for a 3-cycle starting at each of $i$, $j$, and $k$."
   ]
  },
  {
   "cell_type": "code",
   "execution_count": null,
   "metadata": {},
   "outputs": [],
   "source": [
    "G = nx.DiGraph([(1,3),(2,1),(2,3),(3,4),(4,2),(4,5),(4,6),(5,6)])\n",
    "nx.draw_networkx(G,arrows=True,with_labels=True,node_size=600,node_color='r',width=2) # draw it pretty\n",
    "limits=plt.axis('off')                                                                # turn off axes\n",
    "plt.show()                                                                            # show me the network!"
   ]
  },
  {
   "cell_type": "code",
   "execution_count": null,
   "metadata": {},
   "outputs": [],
   "source": [
    "def count_FFBL_motifs(G,flag):\n",
    "    # input : a networkx digraph G and a binary-valued variabe flag\n",
    "    # output: if flag=1, a print statement of the type {FFL,FBL} and its member edges for each found motif\n",
    "    #         a list (FFL,FBL) of the counts of feed-forward and feed-back loops in G\n",
    "    \n",
    "    # YOUR CODE HERE\n",
    "\n",
    "    return (FFL_count,FBL_count)"
   ]
  },
  {
   "cell_type": "code",
   "execution_count": null,
   "metadata": {},
   "outputs": [],
   "source": [
    "##### do not modify below here #####\n",
    "counts = count_FFBL_motifs(G,1)\n",
    "\n",
    "print(f'FFL count = {counts[0]}')\n",
    "print(f'FBL count = {counts[1]}')"
   ]
  },
  {
   "cell_type": "markdown",
   "metadata": {},
   "source": [
    "Your explanation here"
   ]
  },
  {
   "cell_type": "markdown",
   "metadata": {},
   "source": [
    "### Problem 1-B (15 pts)\n",
    "Before applying your motif counting function from `Problem 1-A` to some real data, follow the standard 'good practice' when importing a new network data set by computing and examining its summary statistics, which provides context for interpreting the output from counting motifs.\n",
    "\n",
    "For the `metabolism_afulgidus` directed network, compute and report\n",
    "* the number of nodes $n$ and directed edges $m$\n",
    "* the mean in-degree $\\langle k_{\\rm in} \\rangle$ and mean out-degree $\\langle k_{\\rm out} \\rangle$\n",
    "* a CCDF plot showing the in- and out-degree distribution $\\Pr(K \\geq k_{\\rm in})$ and $\\Pr(K \\geq k_{\\rm out})$ together (use the provided `plot_2CCDF()` function).\n",
    "* the smallest number of nodes that together account for just over 50% of the out-degree 'wealth' in the network\n",
    "\n",
    "Comment briefly on\n",
    "* the applicability of the formula $\\langle k \\rangle = 2m/n$\n",
    "* why the values for $\\langle k_{\\rm in} \\rangle$ and $\\langle k_{\\rm out} \\rangle$ turn out the way they do, and on their relationship to $2m/n$.\n",
    "* what, if anything, the shape of the in- and out-degree CCDFs indicate about the degree distributions of this network, and what that implies about metabolism.\n",
    "\n",
    "(*2 pts extra credit*) Include a ridiculogram visualization of the network."
   ]
  },
  {
   "cell_type": "code",
   "execution_count": null,
   "metadata": {},
   "outputs": [],
   "source": [
    "def plot_2CCDF(kins,kouts):\n",
    "    # input : two lists of in- and out-degrees\n",
    "    # output: a plot showing CCDFs of the in- and out-degree distributions Pr(K>=k) for k>=1\n",
    "    \n",
    "    kin_max  = max(kins)\n",
    "    kout_max = max(kouts)\n",
    "\n",
    "    # histograms\n",
    "    icounts, ibins = np.histogram(kins, bins=[i for i in range(kin_max+2)], density=True)\n",
    "    icumcounts = np.cumsum(icounts)\n",
    "    icumcounts = np.insert(icumcounts,0,0)\n",
    "    ocounts, obins = np.histogram(kouts, bins=[i for i in range(kout_max+2)], density=True)\n",
    "    ocumcounts = np.cumsum(ocounts)\n",
    "    ocumcounts = np.insert(ocumcounts,0,0)\n",
    "\n",
    "    # plots\n",
    "    fig = plt.figure()\n",
    "    ax1 = fig.add_subplot(111) # put multiple \n",
    "    plt.loglog(obins[1:-1], 1-ocumcounts[1:-1], 'bo', alpha=0.5, label='out-degree')\n",
    "    plt.loglog(ibins[1:-1], 1-icumcounts[1:-1], 'rs', alpha=0.5, label='in-degree')\n",
    "    plt.title('CCDF, in- and out-degrees (loglog)')\n",
    "    plt.xlabel('Degree, k')\n",
    "    plt.ylabel('Pr(K>=k)')\n",
    "    plt.legend(loc='upper right');\n",
    "    plt.show()\n",
    "    return"
   ]
  },
  {
   "cell_type": "code",
   "execution_count": null,
   "metadata": {},
   "outputs": [],
   "source": [
    "# this data set is from Gorochowski et al., Science Advances 4(3), eaap9751 (2018) \n",
    "# https://advances.sciencemag.org/content/4/3/eaap9751\n",
    "fname = 'metabolism_afulgidus.gml'\n",
    "print(f'reading the network file : {fname}\\n')\n",
    "##### do not modify above here #####\n",
    "\n",
    "\n",
    "# Your code here\n",
    "\n",
    "\n",
    "##### do not modify below here #####\n",
    "print(f'number of nodes, n  = {n}')\n",
    "print(f'number of edges, m  = {m}')\n",
    "print(f'\\nmean(k_in)  = %5.2f' % kin_mean)\n",
    "print(f'mean(k_out) = %5.2f' % kout_mean)\n",
    "print(f'\\nsmallest num for 50%  = {ind} of {n} nodes')\n",
    "plot_2CCDF(kins,kouts)"
   ]
  },
  {
   "cell_type": "markdown",
   "metadata": {},
   "source": [
    "Your discussion here"
   ]
  },
  {
   "cell_type": "markdown",
   "metadata": {},
   "source": [
    "### Problem 1-C (10 pts)\n",
    "* Apply your motif counting function `count_FFBL_motifs()` from `Problem 1-A` to the `metabolism_afulgidus` directed network, with `flag=0`, to count its FFL and FBL motifs.\n",
    "* Report the number of each that you find, and comment briefly on (1) their relative abundance, and (2) what you think this might mean for how 'information' might flow across this network."
   ]
  },
  {
   "cell_type": "code",
   "execution_count": null,
   "metadata": {},
   "outputs": [],
   "source": [
    "# Your code here\n",
    "\n",
    "##### do not modify below here #####\n",
    "print(f'FFL count = {counts[0]}')\n",
    "print(f'FBL count = {counts[1]}')"
   ]
  },
  {
   "cell_type": "markdown",
   "metadata": {},
   "source": [
    "Your discussion here"
   ]
  },
  {
   "cell_type": "markdown",
   "metadata": {},
   "source": [
    "***\n",
    "***\n",
    "## Problem 2 : Graph representations (12 pts total)\n",
    "\n",
    "Consider the following networks.\n",
    "\n",
    "Network 1:\n",
    "![alt text](https://aaronclauset.github.io/courses/3352/network_represent_1.png \"Network 1\")\n",
    "\n",
    "Network 2:\n",
    "![alt text](https://aaronclauset.github.io/courses/3352/network_represent_2.png \"Network 2\")"
   ]
  },
  {
   "cell_type": "markdown",
   "metadata": {},
   "source": [
    "***\n",
    "### Problem 2-A (3 pts)\n",
    "\n",
    "For Network 1, give the adjacency matrix representation. Let $(i\\to j) \\implies A_{ij}=1$."
   ]
  },
  {
   "cell_type": "markdown",
   "metadata": {},
   "source": [
    "Your answer here"
   ]
  },
  {
   "cell_type": "markdown",
   "metadata": {},
   "source": [
    "***\n",
    "### Problem 2-B (3 pts)\n",
    "\n",
    "For Network 1, give the adjacency list representation."
   ]
  },
  {
   "cell_type": "markdown",
   "metadata": {},
   "source": [
    "Your answer here"
   ]
  },
  {
   "cell_type": "markdown",
   "metadata": {},
   "source": [
    "***\n",
    "### Problem 2-C (6 pts)\n",
    "\n",
    "For Network 2, give the adjacency matrix representation of both one-mode projections."
   ]
  },
  {
   "cell_type": "markdown",
   "metadata": {},
   "source": [
    "Your answer here"
   ]
  },
  {
   "cell_type": "markdown",
   "metadata": {},
   "source": [
    "***\n",
    "***\n",
    "\n",
    "## Problem 3 : Calculations by hand (13 pts total)\n",
    "\n",
    "For each of the following networks, calculate the requested information by hand.\n",
    "\n",
    "Do not use software to do these calculations. Write up your answer in Markdown in the corresponding box below."
   ]
  },
  {
   "cell_type": "markdown",
   "metadata": {},
   "source": [
    "***\n",
    "### Problem 3-A (6 pts)\n",
    "\n",
    "* Enumerate and count the number of 2-cycle motifs <br/> write each in the form $(a\\to b\\to a)$\n",
    "* Enumerate and count the number of FFL and unique FBL motifs <br/> for each FFL, note which node is \"feeding forward\" a signal\n",
    "* Enumerate and count the number of _walks_ of length 3 <br/> write each in the form $(a\\to b\\to c \\to d)$\n",
    "\n",
    "Hint: A _walk_ and a _path_ are slightly different. In the former, nodes can be repeated, while in the latter, they cannot."
   ]
  },
  {
   "cell_type": "code",
   "execution_count": null,
   "metadata": {},
   "outputs": [],
   "source": [
    "G = nx.DiGraph([(1,3),(2,1),(2,3),(3,4),(4,2),(4,5),(4,6),(5,6)])                     # make a directed network\n",
    "nx.draw_networkx(G,arrows=True,with_labels=True,node_size=600,node_color='r',width=2) # draw it pretty\n",
    "limits=plt.axis('off')                                                                # turn off axes\n",
    "plt.show()                                                                            # show me the network!"
   ]
  },
  {
   "cell_type": "markdown",
   "metadata": {},
   "source": [
    "Your answer here"
   ]
  },
  {
   "cell_type": "markdown",
   "metadata": {},
   "source": [
    "***\n",
    "### Problem 3-B (7 pts)\n",
    "\n",
    "Let $G$ be the [Petersen Graph](https://en.wikipedia.org/wiki/Petersen_graph), with $n=10$ nodes and $m=15$ edges. For $\\ell\\in\\{2,3,4,5\\}$, count the number of $\\ell$-cycles in $G$. For convenience, label the outer nodes $(1,2,3,4,5)$ starting at 12 o'clock and running clockwise, and label the inner nodes $(6,7,8,9,10)$ in the same fashion.\n",
    "\n",
    "Hint: a *cycle* is a path (no edges repeated) that begins and ends at the same node."
   ]
  },
  {
   "cell_type": "markdown",
   "metadata": {},
   "source": [
    "Your answer here"
   ]
  },
  {
   "cell_type": "markdown",
   "metadata": {},
   "source": [
    "***\n",
    "### Problem 3-C (*5 pts extra credit*)\n",
    "\n",
    "Let $G$ be a network with $n$ nodes and $m=3n$ directed edges. For each of the following representations, first derive as a function of $n$ the number of *bits* required to store $G$; then, let $n=100,000$ and give the number of gigabytes necessary to store $G$. Comment on whether this is feasible. You may ignore the cost of storing any pointers.\n",
    "* an adjacency matrix\n",
    "* an adjacency list\n",
    "\n",
    "Hint: It takes $\\log_2 k$ bits to uniquely represent an integer of value $k$."
   ]
  },
  {
   "cell_type": "markdown",
   "metadata": {},
   "source": [
    "Your answer here"
   ]
  },
  {
   "cell_type": "markdown",
   "metadata": {},
   "source": [
    "***\n",
    "***\n",
    "\n",
    "## Problem 4 : Node degree and local structure (20 pts)\n",
    "\n",
    "The degree structure of a network is the \"first-order\" description of its organization, and is usually the first thing we analyze when examining any real-world network. That is, we ask the question: *how much of a network's structure is potentially driven by variation in node degrees?*\n",
    "\n",
    "Typically, node degree correlates with many other node-level statistics, in part because higher degree nodes just have more edges attached to them, which allows them to attached to a wider variety of other nodes and structures.\n",
    "\n",
    "In this question, you will investigate this correlation between node-level summary statistics in an open-ended fashion, focusing on how the in- and out-degrees correlate with each other and with other node-level measures. Remember that in a directed network, there are two kinds of degrees: the in-degree $k_{\\rm in}$ and the out-degree $k_{\\rm out}$.\n",
    "\n",
    "* Using `networkx` functions as needed, compute the following node-level summary statistics for each node $v$ on the network from `Problem 1-B`:\n",
    "  * the number of other nodes *reachable* from a node $v$ (e.g., using `single_source_shortest_path_length()`)\n",
    "  * the *eccentricity* of a node $v$, defined as the maximum length geodesic from $v$\n",
    "  * the *reciprocity* of a node $v$, defined as the fraction of out-edges $(v,u)$ that are reciprocated $(u,v)$\n",
    "* Begin by making a scatter plot showing how in-degree $k_{i}^{\\rm in}$ varies as a function of out-degree $k_{i}^{\\rm out}$.\n",
    "* Then make a series of additional scatter plots showing each of the three other node-level statistics covaries with in-degree and out-degree. Don't forget to label your axes (see syllabus...).\n",
    "* Conclude with a brief discussion of what correlations you do and don't see, what patterns you see and what qualitative structures would give rise to them, and offer a brief explanation of your findings.\n",
    "\n",
    "Hint 1: To explain why you think it appears, think carefully about the role that having more or fewer edges attached to some node $v$ has on the number and length of geodesic paths that originate at it.\n",
    "\n",
    "Hint 2: For ease of comparison, plot both the in-degree and out-degree scatter on the same axes (but use different colors so you can tell them apart)."
   ]
  },
  {
   "cell_type": "code",
   "execution_count": null,
   "metadata": {},
   "outputs": [],
   "source": [
    "# this data set is from Gorochowski et al., Science Advances 4(3), eaap9751 (2018) \n",
    "# https://advances.sciencemag.org/content/4/3/eaap9751\n",
    "fname = 'metabolism_afulgidus.gml'\n",
    "print(f'reading the network file : {fname}\\n')\n",
    "##### do not modify above here #####\n",
    "\n",
    "\n",
    "# Your code here"
   ]
  },
  {
   "cell_type": "markdown",
   "metadata": {},
   "source": [
    "Your discussion here"
   ]
  },
  {
   "cell_type": "markdown",
   "metadata": {},
   "source": [
    "***\n",
    "***\n",
    "\n",
    "## Problem 5 : Reading the literature (*10 pts extra credit*)\n",
    "\n",
    "*This extra credit problem is meant to help you look for a project topic*\n",
    "\n",
    "Choose a paper from the [Supplemental Reading list on the external course webpage](https://aaronclauset.github.io/courses/3352/). Read the paper (the whole paper, not just the abstract). Think about what it says. Then, write 1-3 sentences for each of the following questions in a way that clearly summarizes the work, and its context.\n",
    "* What was the research question?\n",
    "* What was the approach the authors took to answer that question?\n",
    "* What did they do well?\n",
    "* What could they have done better?\n",
    "* What extensions can you envision?\n",
    "\n",
    "\n",
    "Do not copy any text from the paper itself; write your own summary, in your own words in Markdown in the corresponding box below. Be sure to answer each of the five questions. The amount of extra credit will depend on the accuracy and thoughtfulness of your answers."
   ]
  },
  {
   "cell_type": "markdown",
   "metadata": {},
   "source": [
    "* *What paper did you choose?*<br/>\n",
    "Give the Authors, Title, Publication Venue, Year\n",
    "<br/>\n",
    "\n",
    "\n",
    "* *What was the research question?*<br/>\n",
    "Your answer here\n",
    "<br/>\n",
    "\n",
    "* *What was the approach the authors took to answer that question?*<br/>\n",
    "Your answer here\n",
    "<br/>\n",
    "\n",
    "* *What did they do well?*<br/>\n",
    "Your answer here\n",
    "<br/>\n",
    "\n",
    "* *What could they have done better?*<br/>\n",
    "Your answer here\n",
    "<br/>\n",
    "\n",
    "* *What extensions can you envision?*<br/>\n",
    "Your answer here"
   ]
  },
  {
   "cell_type": "code",
   "execution_count": null,
   "metadata": {},
   "outputs": [],
   "source": []
  }
 ],
 "metadata": {
  "kernelspec": {
   "display_name": "Python 3",
   "language": "python",
   "name": "python3"
  },
  "language_info": {
   "codemirror_mode": {
    "name": "ipython",
    "version": 3
   },
   "file_extension": ".py",
   "mimetype": "text/x-python",
   "name": "python",
   "nbconvert_exporter": "python",
   "pygments_lexer": "ipython3",
   "version": "3.7.6"
  }
 },
 "nbformat": 4,
 "nbformat_minor": 2
}
