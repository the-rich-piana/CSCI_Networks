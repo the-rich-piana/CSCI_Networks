{
 "cells": [
  {
   "cell_type": "markdown",
   "metadata": {},
   "source": [
    "# CSCI 3352 Biological Networks, Spring 2022, Prof. Clauset"
   ]
  },
  {
   "cell_type": "markdown",
   "metadata": {},
   "source": [
    "# In-class lab : metabolic flux balance analysis\n",
    "\n",
    "***\n",
    "\n",
    "**Team names**: \n",
    "\n",
    "***\n",
    "\n",
    "This is an in-class \"laboratory,\" in which you will learn about flux balance analysis, visualize the results of optimizing a FBA model for biomass growth, and perform and visualization the impact of a \"knock out\" experiment.\n",
    "\n",
    "**To begin**: follow the [installation instructions](https://github.com/opencobra/cobrapy/blob/master/INSTALL.rst) for the `CobraPy` package.\n",
    "\n",
    "![alt text](https://aaronclauset.github.io/courses/3352/cobrapy_header.png \"CobraPy header\")"
   ]
  },
  {
   "cell_type": "code",
   "execution_count": 2,
   "metadata": {},
   "outputs": [
    {
     "name": "stdout",
     "output_type": "stream",
     "text": [
      "Scaling...\n",
      " A: min|aij| =  1.000e+00  max|aij| =  1.000e+00  ratio =  1.000e+00\n",
      "Problem data seem to be well scaled\n"
     ]
    },
    {
     "data": {
      "text/html": [
       "\n",
       "        <table>\n",
       "            <tr>\n",
       "                <td><strong>Name</strong></td>\n",
       "                <td>e_coli_core</td>\n",
       "            </tr><tr>\n",
       "                <td><strong>Memory address</strong></td>\n",
       "                <td>0x07fdda6b8bee0</td>\n",
       "            </tr><tr>\n",
       "                <td><strong>Number of metabolites</strong></td>\n",
       "                <td>72</td>\n",
       "            </tr><tr>\n",
       "                <td><strong>Number of reactions</strong></td>\n",
       "                <td>95</td>\n",
       "            </tr><tr>\n",
       "                <td><strong>Number of groups</strong></td>\n",
       "                <td>0</td>\n",
       "            </tr><tr>\n",
       "                <td><strong>Objective expression</strong></td>\n",
       "                <td>1.0*BIOMASS_Ecoli_core_w_GAM - 1.0*BIOMASS_Ecoli_core_w_GAM_reverse_712e5</td>\n",
       "            </tr><tr>\n",
       "                <td><strong>Compartments</strong></td>\n",
       "                <td>extracellular space, cytosol</td>\n",
       "            </tr>\n",
       "          </table>"
      ],
      "text/plain": [
       "<Model e_coli_core at 0x7fdda6b8bee0>"
      ]
     },
     "execution_count": 2,
     "metadata": {},
     "output_type": "execute_result"
    }
   ],
   "source": [
    "import pandas\n",
    "import cobra\n",
    "\n",
    "#From Github: https://github.com/opencobra/cobrapy/issues/1224\n",
    "import cobra.io \n",
    "cobra.io.load_model(\"e_coli_core\")"
   ]
  },
  {
   "cell_type": "markdown",
   "metadata": {},
   "source": [
    "## Part 1. Going with the flux\n",
    "\n",
    "This first section of the lab follows steps outlined in Keesha Erickson's \"[FBA with CobraPy](https://cnls.lanl.gov/external/qbio2018/Slides/FBA%202/qBio-FBA-lab-slides.pdf)\" tutorial from June 2018. In this section, you will\n",
    "* load an E. coli metabolic network model\n",
    "* grab the list of reactions it contains\n",
    "* set up and visualization the results of a basic FBA experiment\n",
    "\n",
    "NB: The middle part of the tutorial, on overproducing lycopene, is beyond the scope of the lab, and a few of the variable names in this tutorial did not line up with the package when I ran it.\n"
   ]
  },
  {
   "cell_type": "code",
   "execution_count": 3,
   "metadata": {},
   "outputs": [],
   "source": [
    "# OPTIONAL : If you'd like, run the recommended CobraPy test function to see all the tests it runs\n",
    "#from cobra.test import test_all\n",
    "#result = test_all()\n",
    "#print(result)"
   ]
  },
  {
   "cell_type": "markdown",
   "metadata": {},
   "source": [
    "### 1a. Load a test model\n",
    "CobraPy comes with several \"test\" models built in. We'll work with the *E. coli* model iJO1366 at first."
   ]
  },
  {
   "cell_type": "code",
   "execution_count": 4,
   "metadata": {},
   "outputs": [
    {
     "name": "stdout",
     "output_type": "stream",
     "text": [
      "95 reactions\n",
      "72 metabolites\n",
      "137 genes\n"
     ]
    }
   ],
   "source": [
    "# Load the model for genome scale E. coli iJO1366\n",
    "# 1367 genes, 2583 reactions, and 1805 metabolites\n",
    "#\n",
    "# BioModel page: https://www.ebi.ac.uk/compneur-srv/biomodels-main/MODEL1108160000\n",
    "# From: Orth et al. \"A comprehensive genome-scale reconstruction of Escherichia coli metabolism-2011.\" Mol. Syst. Biol. 7, 535 (2011).\n",
    "# DOI: 10.1038/msb.2011.65\n",
    "\n",
    "#cobra.test.create_test_model(\"ecoli\")\n",
    "model = cobra.io.load_model('e_coli_core')\n",
    "\n",
    "# Let's see what's in this model\n",
    "print(f'%i reactions' % len(model.reactions))\n",
    "print(f'%i metabolites' % len(model.metabolites))\n",
    "print(f'%i genes' % len(model.genes))\n",
    "\n",
    "# NB: There are 2606 whole genome metabolism models available from EMBL:\n",
    "# https://www.ebi.ac.uk/biomodels-main/path2models?cat=genome-scale"
   ]
  },
  {
   "cell_type": "markdown",
   "metadata": {},
   "source": [
    "Inside the CobraPy `model` data structure many substructures. Some of the ones we will use include:\n",
    "* `.reactions`: A DictList where the key is the reaction identifier and the value a Reaction\n",
    "* `.metabolites`: A DictList where the key is the metabolite identifier and the value a Metabolite\n",
    "* `.genes`: A DictList where the key is the gene identifier and the value a Gene\n",
    "* `.solution`: The last obtained solution from optimizing the model.\n",
    "* `.objective`: Get or set the solver objective.\n",
    "\n",
    "\n",
    "Let's look at the set of reactions included in this model.\n",
    "(This will be useful because some of the names of these reactions differ from the tutorial. Can you find the right substitutions?)"
   ]
  },
  {
   "cell_type": "code",
   "execution_count": 1,
   "metadata": {},
   "outputs": [
    {
     "ename": "NameError",
     "evalue": "name 'model' is not defined",
     "output_type": "error",
     "traceback": [
      "\u001b[0;31m---------------------------------------------------------------------------\u001b[0m",
      "\u001b[0;31mNameError\u001b[0m                                 Traceback (most recent call last)",
      "\u001b[1;32m/home/gugu/CSCI_Networks/Final_Project/Lab_FBA_test.ipynb Cell 9\u001b[0m in \u001b[0;36m<cell line: 1>\u001b[0;34m()\u001b[0m\n\u001b[0;32m----> <a href='vscode-notebook-cell:/home/gugu/CSCI_Networks/Final_Project/Lab_FBA_test.ipynb#X11sZmlsZQ%3D%3D?line=0'>1</a>\u001b[0m \u001b[39mfor\u001b[39;00m rxn \u001b[39min\u001b[39;00m model\u001b[39m.\u001b[39mreactions:\n\u001b[1;32m      <a href='vscode-notebook-cell:/home/gugu/CSCI_Networks/Final_Project/Lab_FBA_test.ipynb#X11sZmlsZQ%3D%3D?line=1'>2</a>\u001b[0m     \u001b[39mprint\u001b[39m(rxn)\n\u001b[1;32m      <a href='vscode-notebook-cell:/home/gugu/CSCI_Networks/Final_Project/Lab_FBA_test.ipynb#X11sZmlsZQ%3D%3D?line=2'>3</a>\u001b[0m     \u001b[39m#print(rxn.id)\u001b[39;00m\n\u001b[1;32m      <a href='vscode-notebook-cell:/home/gugu/CSCI_Networks/Final_Project/Lab_FBA_test.ipynb#X11sZmlsZQ%3D%3D?line=3'>4</a>\u001b[0m \u001b[39m# Given these reactions, you could transform this data into a directed, bipartite metabolite-reaction network\u001b[39;00m\n\u001b[1;32m      <a href='vscode-notebook-cell:/home/gugu/CSCI_Networks/Final_Project/Lab_FBA_test.ipynb#X11sZmlsZQ%3D%3D?line=4'>5</a>\u001b[0m \n\u001b[1;32m      <a href='vscode-notebook-cell:/home/gugu/CSCI_Networks/Final_Project/Lab_FBA_test.ipynb#X11sZmlsZQ%3D%3D?line=5'>6</a>\u001b[0m \n\u001b[1;32m      <a href='vscode-notebook-cell:/home/gugu/CSCI_Networks/Final_Project/Lab_FBA_test.ipynb#X11sZmlsZQ%3D%3D?line=6'>7</a>\u001b[0m \u001b[39m#model.reactions.get_by_id(\"BIOMASS_Ecoli_core_w_GAM_reverse_712e5\")\u001b[39;00m\n",
      "\u001b[0;31mNameError\u001b[0m: name 'model' is not defined"
     ]
    }
   ],
   "source": [
    "for rxn in model.reactions:\n",
    "    print(rxn)\n",
    "    #print(rxn.id)\n",
    "# Given these reactions, you could transform this data into a directed, bipartite metabolite-reaction network\n",
    "\n",
    "\n",
    "#model.reactions.get_by_id(\"BIOMASS_Ecoli_core_w_GAM_reverse_712e5\")\n",
    "model.reactions.get_by_id(\"BIOMASS_Ecoli_core_w_GAM\")"
   ]
  },
  {
   "cell_type": "markdown",
   "metadata": {},
   "source": [
    "At the top of the `model.reactions` dict are two BIOMASS reactions: `BIOMASS_Ec_iJO1366_WT_53p95M` and `BIOMASS_Ec_iJO1366_core_53p95M`. If you look carefully at their definition, you can see both the large number of input metabolites that BIOMASS production requires, and the very precise coefficients attached to each. These values are experimentally derived to reflect how the model's organism grows in practice, so that model predictions have the right scale for being tested in the laboratory.\n",
    "\n",
    "When we \"solve\" the model, we are asking the optimizer to choose a set of `.fluxes` on the reactions that maximize some `objective`. The objective is usually flux through some particular reaction. The BIOMASS reactions are a common choice for these, but we could choose any combination of reactions in the model. Let's look at what direction the solver will optimize, and what objective function it's optimizing:"
   ]
  },
  {
   "cell_type": "code",
   "execution_count": 6,
   "metadata": {},
   "outputs": [
    {
     "name": "stdout",
     "output_type": "stream",
     "text": [
      "Maximize\n",
      "1.0*BIOMASS_Ecoli_core_w_GAM - 1.0*BIOMASS_Ecoli_core_w_GAM_reverse_712e5\n"
     ]
    }
   ],
   "source": [
    "print(model.objective)"
   ]
  },
  {
   "cell_type": "markdown",
   "metadata": {},
   "source": [
    "### 1b. Optimize the model, get some fluxes\n",
    "The basic experiment we run is to optimize the `.fluxes`, i.e., choose the set of flow values on all the network's reactions so that the `objective` is optimized (maximized, in this case).\n",
    "\n",
    "To do this, we\n",
    "* set the *objective*\n",
    "* set *minimum* fluxes on our input nutrients\n",
    "* `.optimize()` the model\n",
    "\n",
    "We can the output the `.objective_value` the solver produces along with a `.summary()` of the model."
   ]
  },
  {
   "cell_type": "code",
   "execution_count": 7,
   "metadata": {},
   "outputs": [
    {
     "name": "stdout",
     "output_type": "stream",
     "text": [
      "Growth Rate: 0.7178372245939825 1/h\n"
     ]
    },
    {
     "data": {
      "text/html": [
       "<h3>Objective</h3><p>1.0 BIOMASS_Ecoli_core_w_GAM = 0.7178372245939822</p><h4>Uptake</h4><table border=\"1\" class=\"dataframe\">\n",
       "  <thead>\n",
       "    <tr style=\"text-align: right;\">\n",
       "      <th>Metabolite</th>\n",
       "      <th>Reaction</th>\n",
       "      <th>Flux</th>\n",
       "      <th>C-Number</th>\n",
       "      <th>C-Flux</th>\n",
       "    </tr>\n",
       "  </thead>\n",
       "  <tbody>\n",
       "    <tr>\n",
       "      <td>glc__D_e</td>\n",
       "      <td>EX_glc__D_e</td>\n",
       "      <td>10</td>\n",
       "      <td>6</td>\n",
       "      <td>100.00%</td>\n",
       "    </tr>\n",
       "    <tr>\n",
       "      <td>nh4_e</td>\n",
       "      <td>EX_nh4_e</td>\n",
       "      <td>3.914</td>\n",
       "      <td>0</td>\n",
       "      <td>0.00%</td>\n",
       "    </tr>\n",
       "    <tr>\n",
       "      <td>o2_e</td>\n",
       "      <td>EX_o2_e</td>\n",
       "      <td>15</td>\n",
       "      <td>0</td>\n",
       "      <td>0.00%</td>\n",
       "    </tr>\n",
       "    <tr>\n",
       "      <td>pi_e</td>\n",
       "      <td>EX_pi_e</td>\n",
       "      <td>2.641</td>\n",
       "      <td>0</td>\n",
       "      <td>0.00%</td>\n",
       "    </tr>\n",
       "  </tbody>\n",
       "</table><h4>Secretion</h4><table border=\"1\" class=\"dataframe\">\n",
       "  <thead>\n",
       "    <tr style=\"text-align: right;\">\n",
       "      <th>Metabolite</th>\n",
       "      <th>Reaction</th>\n",
       "      <th>Flux</th>\n",
       "      <th>C-Number</th>\n",
       "      <th>C-Flux</th>\n",
       "    </tr>\n",
       "  </thead>\n",
       "  <tbody>\n",
       "    <tr>\n",
       "      <td>ac_e</td>\n",
       "      <td>EX_ac_e</td>\n",
       "      <td>-6.811</td>\n",
       "      <td>2</td>\n",
       "      <td>46.25%</td>\n",
       "    </tr>\n",
       "    <tr>\n",
       "      <td>co2_e</td>\n",
       "      <td>EX_co2_e</td>\n",
       "      <td>-15.83</td>\n",
       "      <td>1</td>\n",
       "      <td>53.75%</td>\n",
       "    </tr>\n",
       "    <tr>\n",
       "      <td>h2o_e</td>\n",
       "      <td>EX_h2o_e</td>\n",
       "      <td>-21.06</td>\n",
       "      <td>0</td>\n",
       "      <td>0.00%</td>\n",
       "    </tr>\n",
       "    <tr>\n",
       "      <td>h_e</td>\n",
       "      <td>EX_h_e</td>\n",
       "      <td>-21.21</td>\n",
       "      <td>0</td>\n",
       "      <td>0.00%</td>\n",
       "    </tr>\n",
       "  </tbody>\n",
       "</table>"
      ],
      "text/plain": [
       "<cobra.summary.model_summary.ModelSummary at 0x7fdda686f9a0>"
      ]
     },
     "execution_count": 7,
     "metadata": {},
     "output_type": "execute_result"
    }
   ],
   "source": [
    "# Set the objective to the genome scale biomass reactions\n",
    "# NB: that these reaction names are different than in the tutorial\n",
    "\n",
    "#model.reactions.get_by_id(\"BIOMASS_Ec_iJO1366_core_53p95M\").objective_coefficient = 0\n",
    "#model.reactions.get_by_id(\"BIOMASS_Ec_iJO1366_WT_53p95M\").objective_coefficient = 1.0\n",
    "#Forces output to be zeor on ones not using.\n",
    "\n",
    "#model.reactions.get_by_id(\"BIOMASS_Ecoli_core_w_GAM\").objective_coefficient = 0\n",
    "model.reactions.get_by_id(\"BIOMASS_Ecoli_core_w_GAM\").objective_coefficient = 1.0\n",
    "#GAM: Glutaminase, breaks down  glutamine AA?\n",
    "\n",
    "#model.reactions.get_by_id(\"BIOMASS_Ecoli_core_w_GAM_reverse_712e5\").objective_coefficient = 1.0\n",
    "\n",
    "\n",
    "# Set constraints for aerobic growth in glucose minimal media\n",
    "# NB: that these reaction names are different than in the tutorial\n",
    "model.reactions.get_by_id(\"EX_glc__D_e\").lower_bound = -10\n",
    "model.reactions.get_by_id(\"EX_o2_e\").lower_bound = -15\n",
    "\n",
    "# Solve\n",
    "solution = model.optimize()\n",
    "\n",
    "# Output solution\n",
    "print(f'Growth Rate: '+str(solution.objective_value)+' 1/h')\n",
    "\n",
    "# Output more information\n",
    "model.summary()"
   ]
  },
  {
   "cell_type": "markdown",
   "metadata": {},
   "source": [
    "Before proceeding, discuss the following questions with your partner:\n",
    "* How close is the growth rate to what is given in the tutorial and lecture?\n",
    "\n",
    "__Probably not relevant because I'm using a different model, but about 20% slower in this case__\n",
    "* Is the ecoli metabolism using all the inputs you gave it?\n",
    "\n",
    "__No it doesn't appear to be using Any O2 at all. Unless I'm confusing C-Flux with Flux__\n",
    "* What metabolic waste products is it producing?\n",
    "\n",
    "__Co2_e, it's creating 1 unit of waste. Not sure what ac_e is.__\n",
    "* Is this metabolism aerobic or anaerobic?\n",
    "\n",
    "__Anaerobic by the looks of it.__"
   ]
  },
  {
   "cell_type": "markdown",
   "metadata": {},
   "source": [
    "### 1c. Visualize the fluxes\n",
    "\n",
    "To see what `.fluxes` the model actually chose for the different edges in *E. coli*'s metabolism, we'll need to use the `Escher` tool. Esher is another python package, but it doesn't seem to work well inside Jupyter notebooks, so instead we'll use the website version:\n",
    "\n",
    "1. Write out the `solution.fluxes` data as a csv file\n",
    "* Visit the [Escher website](https://escher.github.io/#/) and load the E. coli map, or just [load the map directly](https://escher.github.io/#/app?map=e_coli_core.Core%20metabolism&tool=Builder&model=e_coli_core) in a new browser window.\n",
    "* Use the `Data` menu to `Load reaction data`\n",
    "* Choose the `FBA_max_biomass.csv` file\n",
    "* Voila. A beautiful visualization of the fluxes your solver produced.\n",
    "\n",
    "You can also load the \"central metabolism iJ01366\" map, which shows a larger portion of the metabolic network in the model we've loaded."
   ]
  },
  {
   "cell_type": "code",
   "execution_count": 8,
   "metadata": {},
   "outputs": [],
   "source": [
    "# Write out the solution.fluxes data as a csv so that we can import it into an Escher visualization\n",
    "# NB: the fluxes are in solution.fluxes, unlike in the tutorial\n",
    "df = pandas.DataFrame.from_dict([solution.fluxes]).T\n",
    "df.to_csv('FBA_max_biomass.csv')"
   ]
  },
  {
   "cell_type": "markdown",
   "metadata": {},
   "source": [
    "Now that we've put the `solution.fluxes` information into a `pandas` dataframe, we can also just write it out to see which reactions have some flux across them. From this, you can see that most reactions have very little flux across them (lots of 0s). The *absolute values* of these fluxes is not all that meaningful, since they are just the numerical solutions from the solver. Only the flux across the BIOMASS reactions are scaled appropriately to be biologically meaningful."
   ]
  },
  {
   "cell_type": "code",
   "execution_count": 9,
   "metadata": {},
   "outputs": [
    {
     "data": {
      "text/html": [
       "<div>\n",
       "<style scoped>\n",
       "    .dataframe tbody tr th:only-of-type {\n",
       "        vertical-align: middle;\n",
       "    }\n",
       "\n",
       "    .dataframe tbody tr th {\n",
       "        vertical-align: top;\n",
       "    }\n",
       "\n",
       "    .dataframe thead th {\n",
       "        text-align: right;\n",
       "    }\n",
       "</style>\n",
       "<table border=\"1\" class=\"dataframe\">\n",
       "  <thead>\n",
       "    <tr style=\"text-align: right;\">\n",
       "      <th></th>\n",
       "      <th>fluxes</th>\n",
       "    </tr>\n",
       "  </thead>\n",
       "  <tbody>\n",
       "    <tr>\n",
       "      <th>PFK</th>\n",
       "      <td>7.280117</td>\n",
       "    </tr>\n",
       "    <tr>\n",
       "      <th>PFL</th>\n",
       "      <td>0.000000</td>\n",
       "    </tr>\n",
       "    <tr>\n",
       "      <th>PGI</th>\n",
       "      <td>3.835293</td>\n",
       "    </tr>\n",
       "    <tr>\n",
       "      <th>PGK</th>\n",
       "      <td>-16.085923</td>\n",
       "    </tr>\n",
       "    <tr>\n",
       "      <th>PGL</th>\n",
       "      <td>6.017551</td>\n",
       "    </tr>\n",
       "    <tr>\n",
       "      <th>...</th>\n",
       "      <td>...</td>\n",
       "    </tr>\n",
       "    <tr>\n",
       "      <th>NADH16</th>\n",
       "      <td>29.726992</td>\n",
       "    </tr>\n",
       "    <tr>\n",
       "      <th>NADTRHD</th>\n",
       "      <td>0.000000</td>\n",
       "    </tr>\n",
       "    <tr>\n",
       "      <th>NH4t</th>\n",
       "      <td>3.914223</td>\n",
       "    </tr>\n",
       "    <tr>\n",
       "      <th>O2t</th>\n",
       "      <td>15.000000</td>\n",
       "    </tr>\n",
       "    <tr>\n",
       "      <th>PDH</th>\n",
       "      <td>10.548886</td>\n",
       "    </tr>\n",
       "  </tbody>\n",
       "</table>\n",
       "<p>95 rows × 1 columns</p>\n",
       "</div>"
      ],
      "text/plain": [
       "            fluxes\n",
       "PFK       7.280117\n",
       "PFL       0.000000\n",
       "PGI       3.835293\n",
       "PGK     -16.085923\n",
       "PGL       6.017551\n",
       "...            ...\n",
       "NADH16   29.726992\n",
       "NADTRHD   0.000000\n",
       "NH4t      3.914223\n",
       "O2t      15.000000\n",
       "PDH      10.548886\n",
       "\n",
       "[95 rows x 1 columns]"
      ]
     },
     "execution_count": 9,
     "metadata": {},
     "output_type": "execute_result"
    }
   ],
   "source": [
    "df"
   ]
  },
  {
   "cell_type": "markdown",
   "metadata": {},
   "source": [
    "Once you've loaded the flux `.csv` into Escher, you can see where the flows are going. Since Escher doesn't like to run in the notebook, here's a screenshot of what it produces:\n",
    "\n",
    "![alt text](https://aaronclauset.github.io/courses/3352/Escher_ecoli_small.png \"Ecoli small\")"
   ]
  },
  {
   "cell_type": "markdown",
   "metadata": {},
   "source": [
    "### 1d. Explore basic metabolism\n",
    "Using the basic ecoli metabolism model above, explore the following questions. For each, first discuss what kind of experiment you should carry out in order to answer it, and then try it out. Record what you find.\n",
    "* What is the optimum ratio of o2 availability per unit of glucose consumption for maximizing biomass production?\n",
    "* How much more effective is aerobic metabolism (o2 input > 0) vs. anaerobic metabolism (no o2) for biomass production?"
   ]
  },
  {
   "cell_type": "markdown",
   "metadata": {},
   "source": [
    "## Part 2. Knock out experiments\n",
    "In this section, we'll carry out a \"knockout\" experiment, in which we force some particular flux in the system to be zero. Experimentally, we would accomplish this by deleting or disabling the gene that codes for the enzyme that catalyzes that reaction. Here, we can just add a constraint to the model that prohibits all solutions that place any flux through a particular reaction. This will force the flows to go across other reactions to get to BIOMASS, which may decrease (or increase) BIOMASS production.\n",
    "\n",
    "In `CobraPy` there are two ways to do a knockout:\n",
    "* `model.reactions.PFK.knock_out()`\n",
    "* `model.genes.b4025.knock_out()`\n",
    "\n",
    "The *effect* of a `reactions` knockout is to set *both* `model.reactions.get_by_id(\"x\").lower_bound = 0` *and* `model.reactions.get_by_id(\"x\").upper_bound = 0`, which prevents flux from going in either direction across the reaction.\n",
    "\n",
    "Once we've done the knockout, we need to re-solve the model to get *new* fluxes, which respect the added constraint of having eliminated this reaction. Then we can re-export the `.fluxes` and visualize them with Escher again to see how the metabolic flows shifted.\n",
    "\n",
    "We'll use the same `.obective` function as before, along with the same aerobic growth in glocuse conditions."
   ]
  },
  {
   "cell_type": "markdown",
   "metadata": {},
   "source": [
    "### Part 2a. Knocking out FUM\n",
    "\n",
    "This part is mostly an example of how to set up and run a knockout experiment. Run the code and then discuss these questions with your group:\n",
    "* How much lower is the growth rate in this condition?\n",
    "* What changes in the Escher flux visualization do you observe? (What fluxes increased? What fluxes decreased?)\n",
    "* Has this knockout experiment changed the ratio of o2 availability per unit glucose consumption?"
   ]
  },
  {
   "cell_type": "code",
   "execution_count": 10,
   "metadata": {},
   "outputs": [
    {
     "name": "stdout",
     "output_type": "stream",
     "text": [
      "Growth Rate: 0.383652809553465 1/h\n"
     ]
    },
    {
     "data": {
      "text/html": [
       "<h3>Objective</h3><p>1.0 BIOMASS_Ecoli_core_w_GAM = 0.3836528095534651</p><h4>Uptake</h4><table border=\"1\" class=\"dataframe\">\n",
       "  <thead>\n",
       "    <tr style=\"text-align: right;\">\n",
       "      <th>Metabolite</th>\n",
       "      <th>Reaction</th>\n",
       "      <th>Flux</th>\n",
       "      <th>C-Number</th>\n",
       "      <th>C-Flux</th>\n",
       "    </tr>\n",
       "  </thead>\n",
       "  <tbody>\n",
       "    <tr>\n",
       "      <td>glc__D_e</td>\n",
       "      <td>EX_glc__D_e</td>\n",
       "      <td>5.449</td>\n",
       "      <td>6</td>\n",
       "      <td>100.00%</td>\n",
       "    </tr>\n",
       "    <tr>\n",
       "      <td>nh4_e</td>\n",
       "      <td>EX_nh4_e</td>\n",
       "      <td>2.092</td>\n",
       "      <td>0</td>\n",
       "      <td>0.00%</td>\n",
       "    </tr>\n",
       "    <tr>\n",
       "      <td>o2_e</td>\n",
       "      <td>EX_o2_e</td>\n",
       "      <td>15</td>\n",
       "      <td>0</td>\n",
       "      <td>0.00%</td>\n",
       "    </tr>\n",
       "    <tr>\n",
       "      <td>pi_e</td>\n",
       "      <td>EX_pi_e</td>\n",
       "      <td>1.411</td>\n",
       "      <td>0</td>\n",
       "      <td>0.00%</td>\n",
       "    </tr>\n",
       "  </tbody>\n",
       "</table><h4>Secretion</h4><table border=\"1\" class=\"dataframe\">\n",
       "  <thead>\n",
       "    <tr style=\"text-align: right;\">\n",
       "      <th>Metabolite</th>\n",
       "      <th>Reaction</th>\n",
       "      <th>Flux</th>\n",
       "      <th>C-Number</th>\n",
       "      <th>C-Flux</th>\n",
       "    </tr>\n",
       "  </thead>\n",
       "  <tbody>\n",
       "    <tr>\n",
       "      <td>co2_e</td>\n",
       "      <td>EX_co2_e</td>\n",
       "      <td>-14.52</td>\n",
       "      <td>1</td>\n",
       "      <td>88.69%</td>\n",
       "    </tr>\n",
       "    <tr>\n",
       "      <td>for_e</td>\n",
       "      <td>EX_for_e</td>\n",
       "      <td>-1.852</td>\n",
       "      <td>1</td>\n",
       "      <td>11.31%</td>\n",
       "    </tr>\n",
       "    <tr>\n",
       "      <td>h2o_e</td>\n",
       "      <td>EX_h2o_e</td>\n",
       "      <td>-17.31</td>\n",
       "      <td>0</td>\n",
       "      <td>0.00%</td>\n",
       "    </tr>\n",
       "    <tr>\n",
       "      <td>h_e</td>\n",
       "      <td>EX_h_e</td>\n",
       "      <td>-9.548</td>\n",
       "      <td>0</td>\n",
       "      <td>0.00%</td>\n",
       "    </tr>\n",
       "  </tbody>\n",
       "</table>"
      ],
      "text/plain": [
       "<cobra.summary.model_summary.ModelSummary at 0x7fdda6b4b640>"
      ]
     },
     "execution_count": 10,
     "metadata": {},
     "output_type": "execute_result"
    }
   ],
   "source": [
    "# Carry out a knock-out experiment:\n",
    "# https://cobrapy.readthedocs.io/en/stable/deletions.html\n",
    "\n",
    "# knock out the FUM reaction, which is part of the Krebs cycle\n",
    "#model.reactions.FUM.knock_out()\n",
    "\n",
    "# Set the objective to the genome scale biomass reactions\n",
    "# NB: that these reaction names are different than in the tutorial\n",
    "model.reactions.get_by_id(\"BIOMASS_Ecoli_core_w_GAM\").objective_coefficient = 1.0\n",
    "#model.reactions.get_by_id(\"BIOMASS_Ec_iJO1366_WT_53p95M\").objective_coefficient = 1.0\n",
    "\n",
    "# Set constrants for aerobic growth in glucose minimal media\n",
    "# NB: that these reaction names are different than in the tutorial\n",
    "model.reactions.get_by_id(\"EX_glc__D_e\").lower_bound = -10\n",
    "model.reactions.get_by_id(\"EX_o2_e\").lower_bound = -15\n",
    "\n",
    "\"\"\"New code: \"\"\"\n",
    "\n",
    "model.reactions.PFK.knock_out()\n",
    "#model.reactions.get_by_id(\"EX_glc__D_e\").knock_out()\n",
    "#model.reactions.PGM.knock_out()\n",
    "\n",
    "#model.reactions.PYRT2.knock_out()\n",
    "#model.reactions.PYRt2.knock_out()\n",
    "#model.reactions.MDH.knock_out()\n",
    "\n",
    "#model.reactions.CYTBD.knock_out()\n",
    "# Solve\n",
    "solution = model.optimize()\n",
    "\n",
    "# Output solution\n",
    "print(f'Growth Rate: '+str(solution.objective_value)+' 1/h')\n",
    "\n",
    "# Write out the solution.fluxes data as a csv so that we can import it into an Escher visualization\n",
    "df = pandas.DataFrame.from_dict([solution.fluxes]).T\n",
    "df.to_csv('FBA_max_biomass_noFUM.csv')\n",
    "\n",
    "# Output more information\n",
    "model.summary()"
   ]
  },
  {
   "cell_type": "markdown",
   "metadata": {},
   "source": [
    "Using the Escher tool again, below is another screenshot of the resulting flows in core metabolism:\n",
    "\n",
    "![alt text](https://aaronclauset.github.io/courses/3352/Escher_ecoli_noFUM_small.png \"Ecoli small, no FUM\")"
   ]
  },
  {
   "cell_type": "markdown",
   "metadata": {},
   "source": [
    "### Part 2b. Explore!\n",
    "\n",
    "Now, try knocking out other reactions and answering these questions:\n",
    "* Can you find any \"bottleneck\" reactions, which, if you knock them out, drop growth rate to nearly 0?\n",
    "  * Where would you _expect_ bottleneck reactions to be in the network?\n",
    "\n",
    "  __The initial conversion of important intermediate metabolites to smaller more useful compounds. For example, inturrupting any of the green edges in the top left dealing with glucose. I would expect nodes with low degree to be more damaging to the model. Also messing with the core metabolism cycle in the middle__ \n",
    "  * Do all those reactions have the same impact if knocked out?\n",
    "  \n",
    "  __I would expect core metabolism to be more susceptible to changes__\n",
    "  * How many bottlenecks can you find?\n",
    "\n",
    "  __-Knocking out PGM brings growth rate to 0.__ <br>\n",
    "  __-Knocking out CYTBD brings growth rate to 0.21__ <br>\n",
    "  __-PYRT2, pyruvate symporter doesn't change anything, surprisingly__ <br>\n",
    "  __-FUM, Fumerase core metabolism doesn't change anything, also surprisingly__ <br>\n",
    " \n",
    "\n",
    "  * What does the common-ness or rarity of bottlenecks tell you about the _robustness_ of the metabolic network?\n",
    "* Can you find any reactions that, if you knock them out, lead to _increased_ growth rate?\n",
    "* Can you find reactions that, if knocked out, increase the o2 consumption per unit of glucose?"
   ]
  },
  {
   "cell_type": "markdown",
   "metadata": {},
   "source": [
    "### 2c. More ideas\n",
    "\n",
    "There are many other experiments you could try. The growth conditions we've set so far include minimal glucose. Increasing the glucose supply should increase the flux through to BIOMASS. How high a growth rate can you sustain? How many reactions can you knock out and still get some growth? How much do \"core\" vs. \"periphery\" reactions matter for altering the growth rate?\n",
    "\n",
    "You can also try optimizing flux through different reactions by altering the `.objective` function. What happens to growth if you optimize for flux around the Krebs cycle?"
   ]
  },
  {
   "cell_type": "markdown",
   "metadata": {},
   "source": [
    "***\n",
    "## Other metabolic models\n",
    "\n",
    "As far as I know, there are not pre-built Escher maps for these metabolisms."
   ]
  },
  {
   "cell_type": "code",
   "execution_count": 11,
   "metadata": {},
   "outputs": [
    {
     "ename": "AttributeError",
     "evalue": "module 'cobra' has no attribute 'test'",
     "output_type": "error",
     "traceback": [
      "\u001b[0;31m---------------------------------------------------------------------------\u001b[0m",
      "\u001b[0;31mAttributeError\u001b[0m                            Traceback (most recent call last)",
      "\u001b[1;32m/home/gugu/CSCI_Networks/Final_Project/Lab_FBA_test.ipynb Cell 28\u001b[0m in \u001b[0;36m<cell line: 2>\u001b[0;34m()\u001b[0m\n\u001b[1;32m      <a href='vscode-notebook-cell:/home/gugu/CSCI_Networks/Final_Project/Lab_FBA_test.ipynb#X36sZmlsZQ%3D%3D?line=0'>1</a>\u001b[0m \u001b[39m# Here are two other models included with CobraPy\u001b[39;00m\n\u001b[0;32m----> <a href='vscode-notebook-cell:/home/gugu/CSCI_Networks/Final_Project/Lab_FBA_test.ipynb#X36sZmlsZQ%3D%3D?line=1'>2</a>\u001b[0m textbook_model \u001b[39m=\u001b[39m cobra\u001b[39m.\u001b[39;49mtest\u001b[39m.\u001b[39mcreate_test_model(\u001b[39m\"\u001b[39m\u001b[39mtextbook\u001b[39m\u001b[39m\"\u001b[39m)\n\u001b[1;32m      <a href='vscode-notebook-cell:/home/gugu/CSCI_Networks/Final_Project/Lab_FBA_test.ipynb#X36sZmlsZQ%3D%3D?line=2'>3</a>\u001b[0m \u001b[39m# Let's see what's in this model:\u001b[39;00m\n\u001b[1;32m      <a href='vscode-notebook-cell:/home/gugu/CSCI_Networks/Final_Project/Lab_FBA_test.ipynb#X36sZmlsZQ%3D%3D?line=3'>4</a>\u001b[0m \u001b[39mprint\u001b[39m(\u001b[39mf\u001b[39m\u001b[39m'\u001b[39m\u001b[39mtextbook model\u001b[39m\u001b[39m'\u001b[39m)\n",
      "\u001b[0;31mAttributeError\u001b[0m: module 'cobra' has no attribute 'test'"
     ]
    }
   ],
   "source": [
    "# Here are two other models included with CobraPy\n",
    "textbook_model = cobra.test.create_test_model(\"textbook\")\n",
    "# Let's see what's in this model:\n",
    "print(f'textbook model')\n",
    "print(f'%i reactions' % len(textbook_model.reactions))\n",
    "print(f'%i metabolites' % len(textbook_model.metabolites))\n",
    "print(f'%i genes\\n' % len(textbook_model.genes))\n",
    "\n",
    "salmonella_model = cobra.test.create_test_model(\"salmonella\")\n",
    "# Let's see what's in this model:\n",
    "print(f'salmonella model')\n",
    "print(f'%i reactions' % len(salmonella_model.reactions))\n",
    "print(f'%i metabolites' % len(salmonella_model.metabolites))\n",
    "print(f'%i genes' % len(salmonella_model.genes))"
   ]
  }
 ],
 "metadata": {
  "kernelspec": {
   "display_name": "Python 3.10.5",
   "language": "python",
   "name": "python3"
  },
  "language_info": {
   "codemirror_mode": {
    "name": "ipython",
    "version": 3
   },
   "file_extension": ".py",
   "mimetype": "text/x-python",
   "name": "python",
   "nbconvert_exporter": "python",
   "pygments_lexer": "ipython3",
   "version": "3.10.5"
  },
  "vscode": {
   "interpreter": {
    "hash": "2d8eb5f0b2d1a671b125662acba05eb56e47a909e2cbb43cb4ed44d16297229b"
   }
  }
 },
 "nbformat": 4,
 "nbformat_minor": 2
}
