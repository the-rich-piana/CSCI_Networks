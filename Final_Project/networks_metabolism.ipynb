{
 "cells": [
  {
   "cell_type": "code",
   "execution_count": 246,
   "metadata": {},
   "outputs": [],
   "source": [
    "import networkx as nx\n",
    "import numpy as np\n",
    "import matplotlib\n",
    "import matplotlib.pylab as plt\n",
    "import pandas as pd\n",
    "\n",
    "import cobra\n",
    "#import escher\n",
    " \n",
    "%matplotlib inline"
   ]
  },
  {
   "cell_type": "markdown",
   "metadata": {},
   "source": [
    "<h3> Loading the Ecoli models <h3>"
   ]
  },
  {
   "cell_type": "code",
   "execution_count": 247,
   "metadata": {},
   "outputs": [
    {
     "name": "stdout",
     "output_type": "stream",
     "text": [
      "iEcHS_1320.xml\n",
      "iEC1344_C.xml\n",
      "iEcDH1_1363.xml\n",
      "iECS88_1305.xml\n",
      "iECW_1372.xml\n"
     ]
    },
    {
     "data": {
      "text/html": [
       "\n",
       "        <table>\n",
       "            <tr>\n",
       "                <td><strong>Name</strong></td>\n",
       "                <td>iEcHS_1320</td>\n",
       "            </tr><tr>\n",
       "                <td><strong>Memory address</strong></td>\n",
       "                <td>0x07f3549edfc70</td>\n",
       "            </tr><tr>\n",
       "                <td><strong>Number of metabolites</strong></td>\n",
       "                <td>1963</td>\n",
       "            </tr><tr>\n",
       "                <td><strong>Number of reactions</strong></td>\n",
       "                <td>2753</td>\n",
       "            </tr><tr>\n",
       "                <td><strong>Number of groups</strong></td>\n",
       "                <td>0</td>\n",
       "            </tr><tr>\n",
       "                <td><strong>Objective expression</strong></td>\n",
       "                <td>1.0*BIOMASS_Ec_iJO1366_core_53p95M - 1.0*BIOMASS_Ec_iJO1366_core_53p95M_reverse_5c8b1</td>\n",
       "            </tr><tr>\n",
       "                <td><strong>Compartments</strong></td>\n",
       "                <td>extracellular space, cytosol, periplasm</td>\n",
       "            </tr>\n",
       "          </table>"
      ],
      "text/plain": [
       "<Model iEcHS_1320 at 0x7f3549edfc70>"
      ]
     },
     "execution_count": 247,
     "metadata": {},
     "output_type": "execute_result"
    }
   ],
   "source": [
    "from genericpath import isfile\n",
    "import os\n",
    "\n",
    "dir = 'data'\n",
    "models = []\n",
    "\n",
    "for filename in os.scandir(dir):\n",
    "    f = os.path.join(filename)\n",
    "    if filename.is_file():\n",
    "        print(filename.name)\n",
    "        models.append(cobra.io.read_sbml_model(f))\n",
    "    \n",
    "#cobra.io.read_sbml_model(\"./data/iEC1344_C.xml\")\n",
    "#model = cobra.io.load_model(\"textbook\") \n",
    "\n",
    "models[0]"
   ]
  },
  {
   "cell_type": "markdown",
   "metadata": {},
   "source": [
    "<H3> Reaction knock out </h3>"
   ]
  },
  {
   "cell_type": "code",
   "execution_count": 248,
   "metadata": {},
   "outputs": [
    {
     "name": "stdout",
     "output_type": "stream",
     "text": [
      "e_coli_core\n",
      "PFK\n"
     ]
    },
    {
     "data": {
      "text/html": [
       "\n",
       "        <table>\n",
       "            <tr>\n",
       "                <td><strong>Reaction identifier</strong></td><td>PFK</td>\n",
       "            </tr><tr>\n",
       "                <td><strong>Name</strong></td><td>Phosphofructokinase</td>\n",
       "            </tr><tr>\n",
       "                <td><strong>Memory address</strong></td>\n",
       "                <td>0x7f353e2fce20</td>\n",
       "            </tr><tr>\n",
       "                <td><strong>Stoichiometry</strong></td>\n",
       "                <td>\n",
       "                    <p style='text-align:right'>atp_c + f6p_c --> adp_c + fdp_c + h_c</p>\n",
       "                    <p style='text-align:right'>ATP C10H12N5O13P3 + D-Fructose 6-phosphate --> ADP C10H12N5O10P2 + D-Fructose 1,6-bisphosphate + H+</p>\n",
       "                </td>\n",
       "            </tr><tr>\n",
       "                <td><strong>GPR</strong></td><td>b3916 or b1723</td>\n",
       "            </tr><tr>\n",
       "                <td><strong>Lower bound</strong></td><td>0.0</td>\n",
       "            </tr><tr>\n",
       "                <td><strong>Upper bound</strong></td><td>1000.0</td>\n",
       "            </tr>\n",
       "        </table>\n",
       "        "
      ],
      "text/plain": [
       "<Reaction PFK at 0x7f353e2fce20>"
      ]
     },
     "execution_count": 248,
     "metadata": {},
     "output_type": "execute_result"
    }
   ],
   "source": [
    "test = cobra.io.load_model('e_coli_core')\n",
    "print(test)\n",
    "for rxn in test.reactions:\n",
    "    if rxn.id == 'PFK':\n",
    "        print(rxn.id)\n",
    " \n",
    "#print(test.reactions)\n",
    "test.reactions[0]\n",
    "#print(test.reactions)"
   ]
  },
  {
   "cell_type": "code",
   "execution_count": 249,
   "metadata": {},
   "outputs": [
    {
     "name": "stdout",
     "output_type": "stream",
     "text": [
      "Maximize\n",
      "1.0*BIOMASS_Ec_iJO1366_core_53p95M - 1.0*BIOMASS_Ec_iJO1366_core_53p95M_reverse_5c8b1\n",
      "Maximize\n",
      "1.0*BIOMASS_Ec_iJO1366_core_53p95M - 1.0*BIOMASS_Ec_iJO1366_core_53p95M_reverse_5c8b1\n",
      "Maximize\n",
      "1.0*BIOMASS_Ec_iJO1366_core_53p95M - 1.0*BIOMASS_Ec_iJO1366_core_53p95M_reverse_5c8b1\n",
      "Maximize\n",
      "1.0*BIOMASS_Ec_iJO1366_core_53p95M - 1.0*BIOMASS_Ec_iJO1366_core_53p95M_reverse_5c8b1\n",
      "Maximize\n",
      "1.0*BIOMASS_Ec_iJO1366_core_53p95M - 1.0*BIOMASS_Ec_iJO1366_core_53p95M_reverse_5c8b1\n"
     ]
    }
   ],
   "source": [
    "for i in models:\n",
    "    print(i.objective)"
   ]
  },
  {
   "cell_type": "code",
   "execution_count": 250,
   "metadata": {},
   "outputs": [
    {
     "name": "stdout",
     "output_type": "stream",
     "text": [
      "Growth Rate: 0.0 1/h\n"
     ]
    },
    {
     "data": {
      "text/html": [
       "<h3>Objective</h3><p>1.0 BIOMASS_Ec_iJO1366_WT_53p95M = 0.0</p><h4>Uptake</h4><table border=\"1\" class=\"dataframe\">\n",
       "  <thead>\n",
       "    <tr style=\"text-align: right;\">\n",
       "      <th>Metabolite</th>\n",
       "      <th>Reaction</th>\n",
       "      <th>Flux</th>\n",
       "      <th>C-Number</th>\n",
       "      <th>C-Flux</th>\n",
       "    </tr>\n",
       "  </thead>\n",
       "  <tbody>\n",
       "    <tr>\n",
       "      <td>glc__D_e</td>\n",
       "      <td>EX_glc__D_e</td>\n",
       "      <td>0.1482</td>\n",
       "      <td>6</td>\n",
       "      <td>100.00%</td>\n",
       "    </tr>\n",
       "    <tr>\n",
       "      <td>o2_e</td>\n",
       "      <td>EX_o2_e</td>\n",
       "      <td>0.8894</td>\n",
       "      <td>0</td>\n",
       "      <td>0.00%</td>\n",
       "    </tr>\n",
       "  </tbody>\n",
       "</table><h4>Secretion</h4><table border=\"1\" class=\"dataframe\">\n",
       "  <thead>\n",
       "    <tr style=\"text-align: right;\">\n",
       "      <th>Metabolite</th>\n",
       "      <th>Reaction</th>\n",
       "      <th>Flux</th>\n",
       "      <th>C-Number</th>\n",
       "      <th>C-Flux</th>\n",
       "    </tr>\n",
       "  </thead>\n",
       "  <tbody>\n",
       "    <tr>\n",
       "      <td>co2_e</td>\n",
       "      <td>EX_co2_e</td>\n",
       "      <td>-0.8894</td>\n",
       "      <td>1</td>\n",
       "      <td>100.00%</td>\n",
       "    </tr>\n",
       "    <tr>\n",
       "      <td>h2o_e</td>\n",
       "      <td>EX_h2o_e</td>\n",
       "      <td>-0.8894</td>\n",
       "      <td>0</td>\n",
       "      <td>0.00%</td>\n",
       "    </tr>\n",
       "  </tbody>\n",
       "</table>"
      ],
      "text/plain": [
       "<cobra.summary.model_summary.ModelSummary at 0x7f35455d5b10>"
      ]
     },
     "execution_count": 250,
     "metadata": {},
     "output_type": "execute_result"
    }
   ],
   "source": [
    "test2 = models[0]\n",
    "\n",
    "test2.reactions.get_by_id(\"BIOMASS_Ec_iJO1366_core_53p95M\").objective_coefficient = 0\n",
    "test2.reactions.get_by_id(\"BIOMASS_Ec_iJO1366_WT_53p95M\").objective_coefficient = 1.0\n",
    "\n",
    "# Set constrants for aerobic growth in glucose minimal media\n",
    "# NB: that these reaction names are different than in the tutorial\n",
    "test2.reactions.get_by_id(\"EX_glc__D_e\").lower_bound = -10\n",
    "test2.reactions.get_by_id(\"EX_o2_e\").lower_bound = -15\n",
    "\n",
    "\"\"\"New code: \"\"\"\n",
    "\n",
    "#test2.reactions.PFK.knock_out()\n",
    "#test2.reactions.PFK.lower_bound = -10\n",
    "#test2.reactions.PFK.lower_bound = -10\n",
    "\n",
    "#model.reactions.get_by_id(\"EX_glc__D_e\").knock_out()\n",
    "#model.reactions.PGM.knock_out()\n",
    "\n",
    "#model.reactions.PYRT2.knock_out()\n",
    "#model.reactions.PYRt2.knock_out()\n",
    "test2.reactions.PGM.knock_out()\n",
    "\n",
    "#model.reactions.CYTBD.knock_out()\n",
    "# Solve\n",
    "solution = test2.optimize()\n",
    "\n",
    "# Output solution\n",
    "print(f'Growth Rate: '+str(solution.objective_value)+' 1/h')\n",
    "\n",
    "# Write out the solution.fluxes data as a csv so that we can import it into an Escher visualization\n",
    "#df = pd.DataFrame.from_dict([solution.fluxes]).T\n",
    "#df.to_csv('FBA_max_biomass_noFUM.csv')\n",
    "\n",
    "# Output more information\n",
    "test2.summary()"
   ]
  },
  {
   "cell_type": "code",
   "execution_count": 251,
   "metadata": {},
   "outputs": [
    {
     "name": "stdout",
     "output_type": "stream",
     "text": [
      "iEcHS_1320  knock out  PFK  Growth Rate:  0.0  1/h\n",
      "iEcHS_1320  knock out  PFL  Growth Rate:  -2.5022486767021083e-17  1/h\n",
      "iEcHS_1320  knock out  PGM  Growth Rate:  -2.5022486767021083e-17  1/h\n",
      "iEC1344_C  knock out  PFK  Growth Rate:  6.312341605276005e-31  1/h\n",
      "iEC1344_C  knock out  PFL  Growth Rate:  6.312341605276005e-31  1/h\n",
      "iEC1344_C  knock out  PGM  Growth Rate:  0.0  1/h\n",
      "iEcDH1_1363  knock out  PFK  Growth Rate:  0.0  1/h\n",
      "iEcDH1_1363  knock out  PFL  Growth Rate:  0.0  1/h\n",
      "iEcDH1_1363  knock out  PGM  Growth Rate:  0.0  1/h\n",
      "iECS88_1305  knock out  PFK  Growth Rate:  0.0  1/h\n",
      "iECS88_1305  knock out  PFL  Growth Rate:  0.0  1/h\n",
      "iECS88_1305  knock out  PGM  Growth Rate:  0.0  1/h\n",
      "iECW_1372  knock out  PFK  Growth Rate:  0.0  1/h\n",
      "iECW_1372  knock out  PFL  Growth Rate:  0.0  1/h\n",
      "iECW_1372  knock out  PGM  Growth Rate:  -2.56632405124232e-18  1/h\n"
     ]
    },
    {
     "data": {
      "text/html": [
       "<div>\n",
       "<style scoped>\n",
       "    .dataframe tbody tr th:only-of-type {\n",
       "        vertical-align: middle;\n",
       "    }\n",
       "\n",
       "    .dataframe tbody tr th {\n",
       "        vertical-align: top;\n",
       "    }\n",
       "\n",
       "    .dataframe thead th {\n",
       "        text-align: right;\n",
       "    }\n",
       "</style>\n",
       "<table border=\"1\" class=\"dataframe\">\n",
       "  <thead>\n",
       "    <tr style=\"text-align: right;\">\n",
       "      <th></th>\n",
       "      <th>iEcHS_1320</th>\n",
       "      <th>iEC1344_C</th>\n",
       "      <th>iEcDH1_1363</th>\n",
       "      <th>iECS88_1305</th>\n",
       "      <th>iECW_1372</th>\n",
       "    </tr>\n",
       "  </thead>\n",
       "  <tbody>\n",
       "    <tr>\n",
       "      <th>PFK</th>\n",
       "      <td>0.000000e+00</td>\n",
       "      <td>6.312342e-31</td>\n",
       "      <td>0.0</td>\n",
       "      <td>0.0</td>\n",
       "      <td>0.000000e+00</td>\n",
       "    </tr>\n",
       "    <tr>\n",
       "      <th>PFL</th>\n",
       "      <td>-2.502249e-17</td>\n",
       "      <td>6.312342e-31</td>\n",
       "      <td>0.0</td>\n",
       "      <td>0.0</td>\n",
       "      <td>0.000000e+00</td>\n",
       "    </tr>\n",
       "    <tr>\n",
       "      <th>PGM</th>\n",
       "      <td>-2.502249e-17</td>\n",
       "      <td>0.000000e+00</td>\n",
       "      <td>0.0</td>\n",
       "      <td>0.0</td>\n",
       "      <td>-2.566324e-18</td>\n",
       "    </tr>\n",
       "  </tbody>\n",
       "</table>\n",
       "</div>"
      ],
      "text/plain": [
       "       iEcHS_1320     iEC1344_C  iEcDH1_1363  iECS88_1305     iECW_1372\n",
       "PFK  0.000000e+00  6.312342e-31          0.0          0.0  0.000000e+00\n",
       "PFL -2.502249e-17  6.312342e-31          0.0          0.0  0.000000e+00\n",
       "PGM -2.502249e-17  0.000000e+00          0.0          0.0 -2.566324e-18"
      ]
     },
     "execution_count": 251,
     "metadata": {},
     "output_type": "execute_result"
    }
   ],
   "source": [
    "#obj_df = pd.DataFrame(columns=[models])   \n",
    "\n",
    "#RESET MODELS HERE:\n",
    "ecoli_models = models\n",
    "\n",
    "model_dict = {}\n",
    "\n",
    "for ecoli in ecoli_models:\n",
    "    #Set object \n",
    "  ecoli.reactions.get_by_id(\"BIOMASS_Ec_iJO1366_core_53p95M\").objective_coefficient = 0\n",
    "  ecoli.reactions.get_by_id(\"BIOMASS_Ec_iJO1366_WT_53p95M\").objective_coefficient = 1.0\n",
    "\n",
    "  rxn_ids = ['PFK', 'PFL', 'PGM', 'PYRt2' ,'PGL', 'PPS', 'EX_ac_e', 'DM_amob_c']\n",
    "  i = 0\n",
    "  sol_dict = {}\n",
    "  ecoli.reactions.get_by_id(\"EX_o2_e\").lower_bound = -15\n",
    "  ecoli.reactions.get_by_id(\"EX_glc__D_e\").lower_bound = -10\n",
    "    \n",
    "  for rxn in ecoli.reactions:    \n",
    "    if (rxn.id == rxn_ids[i]) and (i != len(rxn_ids) - 1):\n",
    "      i += 1\n",
    "            #ecoli.reactions.rxn.knock_out()\n",
    "          #  print(rxn.id)\n",
    "      rxn.knock_out()\n",
    "      solution = ecoli.optimize()\n",
    "      sol_dict[rxn.id] = solution.objective_value\n",
    "            #obj_df[rxn, ecoli] = 0\n",
    "            #obj_df.loc[rxn].ecoli = 1\n",
    "      print(ecoli, ' knock out ', rxn.id , ' Growth Rate: ' , str(solution.objective_value), ' 1/h')\n",
    "    #obj_df.append(sol_dict,ignore_index=True)\n",
    "    #print(\"Solution dict\", sol_dict)\n",
    "  model_dict[ecoli.id] = sol_dict\n",
    "  #Maybe reset all parameters\n",
    "    \n",
    "#print(model_dict)\n",
    "obj_df = pd.DataFrame(model_dict)\n",
    "obj_df\n"
   ]
  },
  {
   "cell_type": "code",
   "execution_count": 252,
   "metadata": {},
   "outputs": [
    {
     "data": {
      "text/plain": [
       "<AxesSubplot:>"
      ]
     },
     "execution_count": 252,
     "metadata": {},
     "output_type": "execute_result"
    },
    {
     "data": {
      "image/png": "[encoded data removed]",
      "text/plain": [
       "<Figure size 432x288 with 1 Axes>"
      ]
     },
     "metadata": {
      "needs_background": "light"
     },
     "output_type": "display_data"
    }
   ],
   "source": [
    "obj_df.plot()\n",
    "\n",
    "#Question: best way to represent data in graph form to illustate knockout differences?\n",
    "#Question convert the Bigg Model to a networkx graph to do more networky types of experiments?\n",
    "#https://gitter.im/opencobra/cobrapy?at=5d223634631d3433ba416891"
   ]
  },
  {
   "cell_type": "markdown",
   "metadata": {},
   "source": [
    "<h3> Notes </h3>\n",
    "\n",
    "rxn_ids = ['PFK', 'PFL', 'PGM', 'PYRt2' ,'PGL', 'PPS', 'EX_ac_e', 'DM_amob_c']\n",
    "\n",
    "- Best way to represent data in graph form to illustate knockout differences?\n",
    "    What am I trying to say? What is the goal?\n",
    "\n",
    "- Convert the Bigg Model to a networkx graph to do more networky types of experiments?\n",
    "\n",
    "- Any way to undo knock outs? Seems to be affecting the model even after restarting.\n",
    "    Consider targeting parts of the metabolic network. As a function of the network statistics. Knockout highest degree. Clustering Coefficient. Centrality Measurements. \n",
    "    Degree is a bad way to kill Ecoli. What is most effective piece of network to target. Don't use ER graph. \n",
    "\n",
    "    parse text of output metabolites. Can turn it into a network.\n",
    "    \n",
    "Find out what is causing persistent state.\n",
    "\n",
    "\n",
    "We want to maximize the objective function (Biomass for all Ecoli) by optimizing the model given that certain reactions are knocked out.\n",
    "\n",
    "\"Metabolic flux analysis of E. coli knockouts: lessons from the Keio collection and future outlook\":\n",
    "\n",
    "https://www.ncbi.nlm.nih.gov/pmc/articles/PMC5842030/"
   ]
  },
  {
   "cell_type": "markdown",
   "metadata": {},
   "source": [
    "<h2> Changing growth media experiments:"
   ]
  },
  {
   "cell_type": "code",
   "execution_count": 253,
   "metadata": {},
   "outputs": [],
   "source": [
    "# with model: \n",
    "#     new_medium = model.medium\n",
    "#     new_medium['EX_h2o_e'] = 0.01\n",
    "#     model.medium = new_medium\n",
    "#     print(model.slim_optimize())\n",
    "#     print(model.medium)\n",
    "# #model.medium\n",
    "\n",
    "# medium = model.medium\n",
    "# medium[\"EX_o2_e\"] = 0.0\n",
    "# model.medium = medium\n",
    "\n",
    "# model.medium"
   ]
  }
 ],
 "metadata": {
  "kernelspec": {
   "display_name": "Python 3.10.5",
   "language": "python",
   "name": "python3"
  },
  "language_info": {
   "codemirror_mode": {
    "name": "ipython",
    "version": 3
   },
   "file_extension": ".py",
   "mimetype": "text/x-python",
   "name": "python",
   "nbconvert_exporter": "python",
   "pygments_lexer": "ipython3",
   "version": "3.10.5"
  },
  "orig_nbformat": 4,
  "vscode": {
   "interpreter": {
    "hash": "2d8eb5f0b2d1a671b125662acba05eb56e47a909e2cbb43cb4ed44d16297229b"
   }
  }
 },
 "nbformat": 4,
 "nbformat_minor": 2
}
