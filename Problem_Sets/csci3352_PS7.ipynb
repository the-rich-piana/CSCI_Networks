{
 "cells": [
  {
   "cell_type": "markdown",
   "metadata": {},
   "source": [
    "# CSCI 3352 Biological Networks, Spring 2022, Prof. Clauset\n",
    "Submit here: https://canvas.colorado.edu/courses/80370"
   ]
  },
  {
   "cell_type": "markdown",
   "metadata": {},
   "source": [
    "# Problem Set 7 : Network epidemiology\n",
    "\n",
    "\n",
    "***\n",
    "\n",
    "**Name**: \n",
    "\n",
    "***\n",
    "\n",
    "This assignment is due on Canvas by **11:55pm on Friday, March 11th**. Your solutions to non-programming questions should be done in Markdown directly below the associated question. Your solutions to computational questions should include any specified Python code and results as well as written commentary on your conclusions.  Remember that you are encouraged to discuss the problems with your classmates, but **you must write all code and solutions on your own** (see syllabus for detailed guidance). There are 65 points total, and 20 pts extra credit.\n",
    "\n",
    "**NOTES**: \n",
    "\n",
    "- Unless a url is given for a data set, you will find the required data on the course Canvas.\n",
    "- If you're not familiar with typesetting math directly in Markdown, you may do your work on paper first and then typeset it later. This [reference guide](https://math.meta.stackexchange.com/questions/5020/mathjax-basic-tutorial-and-quick-reference) provides helpful guidance for writing math in Markdown. \n",
    "- It is **unhelpful** to make your reader interpret numerical output from your code.  If a question asks you to compute some value from the data you should show your code output **AND** write a summary of the results in Markdown directly below your code.\n",
    "\n",
    "***\n",
    "* [Documentation for networkx](https://networkx.github.io/documentation/stable/)\n",
    "\n",
    "[//]: <> (Documentation for igraph Python https://igraph.org/python/ )"
   ]
  },
  {
   "cell_type": "code",
   "execution_count": null,
   "metadata": {},
   "outputs": [],
   "source": [
    "import networkx as nx\n",
    "import numpy as np\n",
    "import copy\n",
    "import matplotlib\n",
    "import matplotlib.pylab as plt\n",
    "%matplotlib inline\n",
    "import random as rnd\n",
    "rnd.seed()"
   ]
  },
  {
   "cell_type": "code",
   "execution_count": null,
   "metadata": {},
   "outputs": [],
   "source": [
    "def drawGz(G,z):\n",
    "    # DO NOT MODIFY THIS FUNCTION\n",
    "    # This function draws G with node labels from partition z\n",
    "    #\n",
    "    # input  : G is a networkx graph\n",
    "    #        : z is a dictionary of group labels for G's nodes\n",
    "    # output : none\n",
    "    # \n",
    "    # WARNING: function is optimistic: assumes inputs are properly formatted\n",
    "\n",
    "    colors = ['#d61111','#11d646','#11c6d6','#d67711','#1b11d6','#d611cc'] # map node labels to colors (for the visualization)\n",
    "    \n",
    "    node_colors = []\n",
    "    for i in G.nodes():\n",
    "        if z[i]=='S':\n",
    "            cid = 0\n",
    "        if z[i]=='I':\n",
    "            cid = 1\n",
    "        if z[i]=='R':\n",
    "            cid = 2\n",
    "        node_colors.append(colors[int(cid)])\n",
    "    nsize  = 600\n",
    "    flabel = True\n",
    "\n",
    "    if G.order() > 50:\n",
    "        nsize  = 100\n",
    "        flabel = False\n",
    "    \n",
    "    nx.draw_kamada_kawai(G,with_labels=flabel,node_size=nsize,width=2,node_color=node_colors) # draw it prettier\n",
    "    #nx.draw_networkx(G,with_labels=flabel,node_size=nsize,width=2,node_color=node_colors) # draw it pretty\n",
    "    limits=plt.axis('off')                                      # turn off axes\n",
    "    plt.show() \n",
    "\n",
    "    return"
   ]
  },
  {
   "cell_type": "code",
   "execution_count": null,
   "metadata": {},
   "outputs": [],
   "source": [
    "def plot_epidemicDynamics(St,It,Rt):\n",
    "    # DO NOT MODIFY THIS FUNCTION\n",
    "    # This function plots the S(t),I(t),R(t) time series nicely\n",
    "    # WARNING: function is optimistic: assumes inputs are properly formatted\n",
    "\n",
    "    fig = plt.figure()\n",
    "    ax1 = fig.add_subplot(111) # put multiple \n",
    "    plt.plot(range(len(St)), St, 'bo-', alpha=0.5,label='S(t)')  # plot the S(t) time series\n",
    "    plt.plot(range(len(It)), It, 'rv-', alpha=0.5,label='I(t)')  # plot the I(t) time series\n",
    "    plt.plot(range(len(Rt)), Rt, 'gs-', alpha=0.5,label='R(t)')  # plot the R(t) time series\n",
    "    plt.ylabel('number of nodes')\n",
    "    plt.xlabel('time, t')\n",
    "    plt.legend(loc='upper right');\n",
    "    #ax1.set_xlim([0, 50])\n",
    "    plt.show()\n",
    "    return"
   ]
  },
  {
   "cell_type": "markdown",
   "metadata": {},
   "source": [
    "***\n",
    "## Part 1 (10 pts) : Warming up\n",
    "\n",
    "* Using the SIR simulation code from the in-class lab, write a function `run_SIR(G,s,beta,gmma,flag)` that\n",
    "  * takes as input a simple `networkx` graph, an integer `s` that specifies the _number_ of randomly chosen infected nodes at time $t=0$, choices of $\\beta$ and $\\gamma$, and a binary variable `flag` (`=0` means run silently; `=1` means display any intermediate outputs, like `drawGz()` or `print()` statements),\n",
    "  * runs the simulation to its completion, and then\n",
    "  * returns the $S(t)$, $I(t)$, $R(t)$ time series for the progression of the epidemic (for plotting using the `plot_epidemicDynamics()` function) _and_ a dictionary `xt` that stores for each node `i` the corresponding time `t` at which `i` became infected. You'll need to instrument the existing simulation code to track `xt` correctly.\n",
    "  \n",
    "* Then, apply your new function to the toy graph from the lecture notes and lab, with $s=1$ and $\\beta=\\gamma=0.3$, and plot the resulting time series."
   ]
  },
  {
   "cell_type": "code",
   "execution_count": null,
   "metadata": {},
   "outputs": [],
   "source": [
    "def run_SIR(G,s,beta,gmma,flag):\n",
    "    # Basic SIR simulation\n",
    "\n",
    "    \n",
    "    # YOUR CODE\n",
    "\n",
    "\n",
    "    return St,It,Rt,xt"
   ]
  },
  {
   "cell_type": "code",
   "execution_count": null,
   "metadata": {},
   "outputs": [],
   "source": [
    "##### do not modify below here #####\n",
    "##    run this code once you've written the run_SIR() function\n",
    "\n",
    "G  = nx.Graph([(0,1),(0,2),(1,2),(2,3),(3,4),(3,5),(4,5)]) # a simple graph G\n",
    "\n",
    "beta = 0.3\n",
    "gmma = 0.3\n",
    "flag = 1\n",
    "\n",
    "St,It,Rt,xt = run_SIR(G,1,beta,gmma,flag)\n",
    "plot_epidemicDynamics(St,It,Rt)\n",
    "\n",
    "##### do not modify above here #####"
   ]
  },
  {
   "cell_type": "markdown",
   "metadata": {},
   "source": [
    "***\n",
    "## Problem 2 : The role of the degree distribution (55 pts total)\n",
    "\n",
    "In this problem, you will investigate the role of the exposure graph's degree distribution $\\Pr(k)$ on an epidemic's dynamics $I(t)$. This problem has three parts:\n",
    "* `Problem 2-A`, you'll generate high/medium/low variance degree distributions.\n",
    "* `Problem 2-B`, you'll run an epidemic on each and discuss the differences.\n",
    "* `Problem 2-C`, you'll investigate the role of degree on _when_ a node gets infected."
   ]
  },
  {
   "cell_type": "markdown",
   "metadata": {},
   "source": [
    "### Problem 2-A (20 pts)\n",
    "\n",
    "In `Problem 2-B` we'll use the Chung-Lu model to generate random graphs with a specified degree distribution. However, to see how varying the degree structure changes the epidemic's shape, we'll first need a low-dimensional way to vary the degree structure's shape. There are many ways to do this. Here, we'll use a 2-parameter distribution called a *stretched exponential*, which has the form:\n",
    "\n",
    "<br/>\n",
    "<center>$\\Pr(x) \\propto x^{\\beta-1} \\textrm{exp}(-\\lambda \\, x^{\\beta})$,</center>\n",
    "\n",
    "where $\\beta\\geq 0$ and $\\lambda\\geq 0$. When $\\beta=1$, this distribution returns a standard (low variance) exponential distribution with parameter $\\lambda$; when $\\beta=2$, it decays like a standard (lower variance) Gaussian or Normal distribution; and when $\\beta<1$, it decays more slowly than an exponential (higher variance). The parameter $\\lambda$ is inversely related to the mean degree, so that $\\lambda<1$ means a higher mean, and $\\lambda>1$ means a lower mean.\n",
    "\n",
    "* Use the provided function `drawFrom_SE(n,beta,lmbda)` to generate *three* lists, each containing $n=1000$ values. The three lists should be generated with different combinations of $\\beta$ and $\\lambda$, and should meet the following criteria:\n",
    "  * one distribution should have \"low\" variance, one should have \"high\" variance, and one should be in between those, and\n",
    "  * they should all have the roughly the same average value (e.g., in my solutions, the mean is about $2.3\\pm0.1$).\n",
    "* Modify the `plot_2CCDF()` function from `Problem Set 2` to display all three of these distributions together, i.e., make and apply a function `plot_3CCDF()`.\n",
    "* Briefly describe the effect of increasing or decreasing $\\beta$ and $\\lambda$ on the shape of the plotted distributions, e.g., on the shape of the \"body\" (the middle part) and the upper tail of the distribution.\n",
    "\n",
    "Hint: You will likely need to fiddle with different choices of parameters in order to find good settings. Try starting at $\\beta=\\lambda=1$, and then increasing or decreasing one, then the other parameter, until you get something reasonable when you plot it. For the \"high\" variance distribution, you'll want the maximum value you generate to be no higher than 100 or so."
   ]
  },
  {
   "cell_type": "code",
   "execution_count": null,
   "metadata": {},
   "outputs": [],
   "source": [
    "def drawFrom_SE(n,beta,lmbda):\n",
    "    # DO NOT MODIFY THIS FUNCTION\n",
    "    # This function draws n values from a stretched exponential distribution with parameters beta,lambda\n",
    "    # and then rounds them to integers for use as degrees. It returns these in a list x.\n",
    "\n",
    "    xmin = 0.5  # minimum value \n",
    "    x    = [] # \n",
    "    for i in range(n):\n",
    "        xi = int(round( (xmin**beta - (1/lmbda)*np.log(1-rnd.random()))**(1/beta) ))\n",
    "        x.append(xi)\n",
    "\n",
    "    return x"
   ]
  },
  {
   "cell_type": "code",
   "execution_count": null,
   "metadata": {},
   "outputs": [],
   "source": [
    "def plot_3CCDF(kis1,kis2,kis3):\n",
    "    # input : three lists of degrees\n",
    "    # output: one plot showing the CCDFs of the three degree distributions Pr(K>=k) for k>=1\n",
    "    \n",
    "    # YOUR CODE\n"
   ]
  },
  {
   "cell_type": "code",
   "execution_count": null,
   "metadata": {},
   "outputs": [],
   "source": [
    "\n",
    "# YOUR CODE\n",
    "\n",
    "##### do not modify below here #####\n",
    "##    run this code once you've written the plot_3CCDF() function\n",
    "\n",
    "x1 = drawFrom_SE(n,beta1,lmbda1)\n",
    "x2 = drawFrom_SE(n,beta2,lmbda2)\n",
    "x3 = drawFrom_SE(n,beta3,lmbda3)\n",
    "\n",
    "plot_3CCDF(x1,x2,x3)\n",
    "\n",
    "print(f'x1, mean = {sum(x1)/n}')\n",
    "print(f'x2, mean = {sum(x2)/n}')\n",
    "print(f'x3, mean = {sum(x3)/n}')"
   ]
  },
  {
   "cell_type": "markdown",
   "metadata": {},
   "source": [
    "Your discussion"
   ]
  },
  {
   "cell_type": "markdown",
   "metadata": {},
   "source": [
    "### Problem 2-B (15 pts)\n",
    "\n",
    "Now, using $\\beta=\\gamma=0.4$ (at the critical threshold of $R_0$):\n",
    "* Use the built-in `networkx` Chung-Lu graph generator to make a graph for each of your three degree distributions.\n",
    "* Then, run your SIR simulation on each graph, and plot the corresponding epidemic's dynamics.\n",
    "* Discuss what you see as differences or similarities among or between the three cases, and offer an explanation _in terms of the role that node degree plays in spreading the epidemic_. Remember that the _only_ thing different about these three graphs is the degree structure. (You may find it useful to use `drawGz()` to visualize them.)\n",
    "\n",
    "Hint: You may need to re-run the simulation on the same graphs multiple times in order to get three good runs (since each run will start the epidemic in a different location, and occasionally the epidemic may not take off). Alternatively, you can increase the number of initially infected nodes to a small integer (maybe 5 at most). When comparing epidemics, don't forget to look at how _long_ they last."
   ]
  },
  {
   "cell_type": "code",
   "execution_count": null,
   "metadata": {},
   "outputs": [],
   "source": [
    "\n",
    "# YOUR CODE\n"
   ]
  },
  {
   "cell_type": "markdown",
   "metadata": {},
   "source": [
    "Your discussion"
   ]
  },
  {
   "cell_type": "markdown",
   "metadata": {},
   "source": [
    "### Problem 2-C (20 pts)\n",
    "\n",
    "High degree nodes, which are more common under high variance degree distributions, play a special role in epidemics. Let's investigate.\n",
    "* Using the `xt` output variable from your `run_SIR()` function, make three scatter plots of the time of infection $t_i$ as a function of node degree $k_i$, one for each network.\n",
    "* For each plot, calculate and report the correlation coefficient `r = np.corrcoef(x,y)[0,1]` between your $x$ and $y$ variables.\n",
    "* Finally, discuss any patterns you see within and across your high/medium/low variance networks from this perspective, and use the correlation coefficients you calculate to offer an explanation (in terms of the network structure and the rules of the SIR epidemic) as to why that pattern exists.\n",
    "\n",
    "Hint: Don't plot values where $t_i=-1$, which is a special value indicating that node $i$ was never infected."
   ]
  },
  {
   "cell_type": "code",
   "execution_count": null,
   "metadata": {},
   "outputs": [],
   "source": [
    "\n",
    "# YOUR CODE\n"
   ]
  },
  {
   "cell_type": "markdown",
   "metadata": {},
   "source": [
    "Your discussion"
   ]
  },
  {
   "cell_type": "markdown",
   "metadata": {},
   "source": [
    "***\n",
    "### Problem 2-D (*10 pts extra credit*) : Flattening an epidemic\n",
    "\n",
    "Complete this section of the in-class lab.\n",
    "\n",
    "Using your SIR simulation, conduct the following three mini-experiments. For these, use the built-in `.gnp_random_graph(n, p)` network generator in `networkx`. Recall that `p` is the probability that an edge exists, and we choose it by first choosing the _mean degree_ $c$ (see Lecture Notes 3). The idea here is that the first experiment sets up your baseline for an SIR epidemic on a network, and then we'll first vary one parameter, and then vary a different parameter, to investigate the effects these parameters have on the dynamics of the epidemic. To do this, you'll want to plot the $S(t)$, $I(t)$, $R(t)$ functions after each simulation.\n",
    "\n",
    "Experiment 3.1: simulate a basic epidemic:\n",
    "* set $n=200$ and $c=6$\n",
    "* note around what time step $I(t)$ peaks, and how many time steps it mostly spans.\n",
    "\n",
    "Experiment 3.2: simulate the effect of reduced transmission (e.g., hand washing!):\n",
    "* lower $\\beta$; keep $\\gamma$ the same, $n=200$ and $c=6$\n",
    "\n",
    "Experiment 3.3: simulate the effect of \"social distancing\" (e.g., self-quarantine, staying at home, etc.):\n",
    "* lower $c$ in $G(n,p)$; keep $\\beta=\\gamma$, $n=200$\n",
    "\n",
    "As before, you'll want to run each setting several times to get a sense of what the epidemic tends to do. Start by lowering $\\beta$ and $c$ only a little, and then keep lowering them until you see something change. Then, discuss with your teammates what you found, and answer the following specific questions:\n",
    "1. What effect does lowering $\\beta$ (reducing the likelihood of transmission) have on $I(t)$, compared to experiment 3.1? How much reduced transmission would you need _everyone_ to do to achieve a real \"flattening\" of the epidemic? Do you think that's realistic?\n",
    "* What effect does lowering $c$ (reducing the likelihood of transmission) have on $I(t)$?, compared to experiment 3.1? How much social distancing would you need_everyone_ to do to achieve the results you found in experiment 3.3? (Consider what a typical $c$ might be for _you_ during a normal day. Is $c=6$ realistic?)\n",
    "* Which has a larger effect on $I(t)$, reduced transmission or social distancing?"
   ]
  },
  {
   "cell_type": "code",
   "execution_count": null,
   "metadata": {},
   "outputs": [],
   "source": [
    "\n",
    "# YOUR CODE\n"
   ]
  },
  {
   "cell_type": "markdown",
   "metadata": {},
   "source": [
    "Your discussion"
   ]
  },
  {
   "cell_type": "markdown",
   "metadata": {},
   "source": [
    "***\n",
    "***\n",
    "\n",
    "## Problem 3 : Reading the literature (*10 pts extra credit*)\n",
    "\n",
    "Choose a paper from the [Supplemental Reading list on the external course webpage](http://tuvalu.santafe.edu/~aaronc/courses/3352/). Read the paper (the whole paper, not just the abstract). Think about what it says. Then, write 1-3 sentences for each of the following questions in a way that clearly summarizes the work, and its context.\n",
    "* What paper did you choose?\n",
    "* What was the research question?\n",
    "* What was the approach the authors took to answer that question?\n",
    "* What did they do well?\n",
    "* What could they have done better?\n",
    "* What extensions can you envision?\n",
    "\n",
    "\n",
    "Do not copy any text from the paper itself; write your own summary, in your own words in Markdown in the corresponding box below. Be sure to answer each of the five questions. The amount of extra credit will depend on the accuracy and thoughtfulness of your answers.\n",
    "\n",
    "Hint: This is a good way to generate some ideas for your class project (your proposal for that is due on **February 27th**. Also, even if you don't understand everything in the paper, that's okay. Do your best to summarize what you did understand."
   ]
  },
  {
   "cell_type": "markdown",
   "metadata": {},
   "source": [
    "* *What paper did you choose?*<br/>\n",
    "Give the Authors, Title, Publication Venue, Year\n",
    "<br/>\n",
    "\n",
    "* *What was the research question?*<br/>\n",
    "Your answer here\n",
    "<br/>\n",
    "\n",
    "* *What was the approach the authors took to answer that question?*<br/>\n",
    "Your answer here\n",
    "<br/>\n",
    "\n",
    "* *What did they do well?*<br/>\n",
    "Your answer here\n",
    "<br/>\n",
    "\n",
    "* *What could they have done better?*<br/>\n",
    "Your answer here\n",
    "<br/>\n",
    "\n",
    "* *What extensions can you envision?*<br/>\n",
    "Your answer here"
   ]
  },
  {
   "cell_type": "code",
   "execution_count": null,
   "metadata": {},
   "outputs": [],
   "source": []
  }
 ],
 "metadata": {
  "kernelspec": {
   "display_name": "Python 3",
   "language": "python",
   "name": "python3"
  },
  "language_info": {
   "codemirror_mode": {
    "name": "ipython",
    "version": 3
   },
   "file_extension": ".py",
   "mimetype": "text/x-python",
   "name": "python",
   "nbconvert_exporter": "python",
   "pygments_lexer": "ipython3",
   "version": "3.7.6"
  }
 },
 "nbformat": 4,
 "nbformat_minor": 2
}
