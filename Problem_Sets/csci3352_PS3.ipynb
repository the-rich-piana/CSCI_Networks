{
 "cells": [
  {
   "cell_type": "markdown",
   "metadata": {},
   "source": [
    "# CSCI 3352 Biological Networks, Spring 2022, Prof. Clauset\n",
    "Submit here: https://canvas.colorado.edu/courses/80370"
   ]
  },
  {
   "cell_type": "markdown",
   "metadata": {},
   "source": [
    "# Problem Set 3 : Random graph models\n",
    "\n",
    "***\n",
    "\n",
    "**Name**: Giuliano Costa\n",
    "\n",
    "***\n",
    "\n",
    "This assignment is due on Canvas by **11:55pm on Friday, February 4th**. Your solutions to non-programming questions should be done in Markdown directly below the associated question. Your solutions to computational questions should include any specified Python code and results as well as written commentary on your conclusions.  Remember that you are encouraged to discuss the problems with your classmates, but **you must write all code and solutions on your own** (see syllabus for detailed guidance). There are 90 points total, and 15 pts extra credit.\n",
    "\n",
    "**NOTES**: \n",
    "\n",
    "- Unless a url is given for a data set, you will find the required data on the course Canvas.\n",
    "- If you're not familiar with typesetting math directly in Markdown, you may do your work on paper first and then typeset it later. This [reference guide](https://math.meta.stackexchange.com/questions/5020/mathjax-basic-tutorial-and-quick-reference) provides helpful guidance for writing math in Markdown. \n",
    "- It is **unhelpful** to make your reader interpret numerical output from your code.  If a question asks you to compute some value from the data you should show your code output **AND** write a summary of the results in Markdown directly below your code.\n",
    "\n",
    "***\n",
    "* [Documentation for networkx](https://networkx.github.io/documentation/stable/)\n",
    "\n",
    "[//]: <> (Documentation for igraph Python https://igraph.org/python/ )"
   ]
  },
  {
   "cell_type": "code",
   "execution_count": 3,
   "metadata": {},
   "outputs": [],
   "source": [
    "import networkx as nx\n",
    "import numpy as np\n",
    "import matplotlib\n",
    "import matplotlib.pylab as plt\n",
    "%matplotlib inline"
   ]
  },
  {
   "cell_type": "markdown",
   "metadata": {},
   "source": [
    "***\n",
    "## Problem 1 : It's a small world (50 pts total)\n",
    "\n",
    "We have argued that the mean geodesic distance $\\langle \\ell \\rangle$ between pairs of nodes in an Erdos-Renyi random graph grows like $O(\\log n)$. In this question, you will\n",
    "* use the ER model as a substrate for a numerical experiment to quantify and demonstrate this behavior, and\n",
    "* investigate the question of how this logarithmic growth depends on a network's edge density parameter $p$.\n",
    "\n",
    "We'll build up to this experiment in four steps."
   ]
  },
  {
   "cell_type": "markdown",
   "metadata": {},
   "source": [
    "### Problem 1-A (10 pts)\n",
    "\n",
    "The first step in developing the numerical simulation is to write a function that makes *one* measurement of $\\langle \\ell \\rangle$ on a given network $G$.\n",
    "\n",
    "* Write a function `compute_MGD(G)` that takes as input a network `G` and computes the *mean geodesic path length* (or \"mean geodesic distance\") as defined in Lecture 2. This function should start with calling the `networkx` function `all_pairs_shortest_path_length()`, which runs an All Pairs Shortest Paths algorithm. You'll need to then process the output of this function correctly in order to compute $\\langle \\ell \\rangle$ the way it is defined in the lecture notes.\n",
    "* Then apply your function to the graph below and report $\\langle \\ell \\rangle$.\n",
    "\n",
    "Hint: Because $G(n,p)$ is almost surely not connected, you won't be able to use `networkx`'s function `average_shortest_path_length()`, because it fails on disconnected graphs. You'll need to write your own, in order to handle 0 and $\\infty$ distances correctly."
   ]
  },
  {
   "cell_type": "code",
   "execution_count": 4,
   "metadata": {},
   "outputs": [],
   "source": [
    "\n",
    "import statistics\n",
    "from itertools import chain\n",
    "# This includes the isolated node!\n",
    "def compute_MGD(G):\n",
    "    \n",
    "    path_lengths = dict(nx.all_pairs_shortest_path_length(G))\n",
    "    all_path_values = []\n",
    "    # returns {node : shortest path}\n",
    "    \n",
    "    #print(path_lengths)\n",
    "    # for x, val in nx.shortest_path_length(G).values():\n",
    "    #     path_lengths.values() = val\n",
    "    # path_lengths = (x.values() for x in nx.shortest_path_length(G).values())\n",
    "    for node, path_length in path_lengths.items(): #e.g node 1: 0, 2 ,4, 5 path lengths\n",
    "        #print(path_length)\n",
    "        for k, i in path_length.items():\n",
    "            if(i > 0): #path length > 0\n",
    "                all_path_values.append(i)\n",
    "            \n",
    "    #mgd = sum(vals)/len(vals)\n",
    "    \n",
    "    #print(all_path_values)\n",
    "    mgd = sum(all_path_values)/len(all_path_values)\n",
    "    return mgd \n",
    "    # input : a networkx graph G\n",
    "    # output: the mean geodesic path length (defined in Lecture 2)\n",
    "\n",
    "    # YOUR CODE HERE\n"
   ]
  },
  {
   "cell_type": "code",
   "execution_count": 5,
   "metadata": {},
   "outputs": [
    {
     "data": {
      "image/png": "[encoded data removed]",
      "text/plain": [
       "<Figure size 432x288 with 1 Axes>"
      ]
     },
     "metadata": {},
     "output_type": "display_data"
    },
    {
     "name": "stdout",
     "output_type": "stream",
     "text": [
      "MGD =   1.78\n"
     ]
    }
   ],
   "source": [
    "G = nx.Graph([(1,3),(1,2),(2,3),(3,4),(4,5),(4,6),(7,8),(8,9)])\n",
    "nx.draw_networkx(G,arrows=True,with_labels=True,node_size=600,node_color='r',width=2) # draw it pretty\n",
    "limits=plt.axis('off')                                                                # turn off axes\n",
    "plt.show()                                                                            # show me the network!\n",
    "\n",
    "ellm = compute_MGD(G)\n",
    "print(f'MGD =  %5.2f' % ellm)"
   ]
  },
  {
   "cell_type": "markdown",
   "metadata": {},
   "source": [
    "### Problem 1-B (10 pts)\n",
    "\n",
    "Given a way to measure the $\\langle \\ell \\rangle$ for *one* network, we can jump right to a numerical experiment by choosing $p$ and then generating *one* network from $G(n,p)$ for a variety of choices of $n$, and for each, calculate $\\langle \\ell \\rangle$. We'll visualize the result using a `semilogx` plot. (These results won't be *good*, and so we'll refine them in the next subproblem.)\n",
    "\n",
    "* Set the target mean degree $c=2$, and use the `fast_gnp_random_graph()` function in `networkx` to generate a $G(n,p)$ network.\n",
    "* To convincingly show the growth behavior, systematically vary $n$ over a wide range, e.g., choose $n=2^k$ for $k=\\{4,5,6,7,8,9,10\\}$.\n",
    "* For each such choice of $n$, generate *one* $G(n,p)$ network, and compute its $\\langle \\ell \\rangle$ using your `compute_MGD()` function.\n",
    "* Then, produce a single `semilogx` plot that shows how $\\langle \\ell \\rangle$ varies as a function of $n$. (Using a `semilogx` will conveniently make logarithmic functions look linear on the page.)\n",
    "* Run this experiment a few times, and then comment briefly in the markdown box below what you observe about the stability and smoothness of the trend."
   ]
  },
  {
   "cell_type": "code",
   "execution_count": 6,
   "metadata": {},
   "outputs": [
    {
     "data": {
      "image/png": "[encoded data removed]",
      "text/plain": [
       "<Figure size 432x288 with 1 Axes>"
      ]
     },
     "metadata": {
      "needs_background": "light"
     },
     "output_type": "display_data"
    }
   ],
   "source": [
    "ns = np.logspace(4,10,num=7,base=2)  # number of nodes: 2^{4:10}\n",
    "ns = ns.astype(int)                  # convert to ints\n",
    "ellm = []                            # store the MGDs here\n",
    "\n",
    "##### do not modify above here #####\n",
    "c = 2\n",
    "\n",
    "for n in ns:\n",
    "    p = c/(n-1)\n",
    "    G = nx.fast_gnp_random_graph(n, p)\n",
    "    ellm.append(compute_MGD(G))\n",
    "    \n",
    "##### do not modify below here #####\n",
    "plt.semilogx(ns, ellm, 'bo', alpha=0.5,label='c=2')\n",
    "plt.title('Its a small world?')\n",
    "plt.ylabel('mean geodesic distance, <ell>')\n",
    "plt.xlabel('number of nodes, n')\n",
    "plt.legend(loc='upper left');\n",
    "plt.show()"
   ]
  },
  {
   "cell_type": "markdown",
   "metadata": {},
   "source": [
    "Your discussion here"
   ]
  },
  {
   "cell_type": "markdown",
   "metadata": {},
   "source": [
    "### Problem 1-C (10 pts)\n",
    "\n",
    "Because $G(n,p)$ is a random graph, each $\\langle \\ell \\rangle$ is a *random variable*, meaning that it will fluctuate between different draws from the parameterized model $G(n,p)$. In other words, if we draw a sequence of graphs $G_1,G_2,\\dots$ from the model $G(n,p)$, we'll get a sequence of measurements $\\langle \\ell \\rangle_1,\\langle \\ell \\rangle_2,\\dots$, each a little different from each other.\n",
    "\n",
    "To get a *smooth* trend in our plot, we need to get a *good* estimate of $\\langle \\ell \\rangle$ for each choice of $n$. We do this by *averaging* the sequence of measurements $\\langle \\ell \\rangle_1,\\langle \\ell \\rangle_2,\\dots$ for each choice of $n$. Averaging generates a better estimate of the mean because it estimates the central value around which the fluctuations occur. Plotting these central tendencies will produce a nicely smooth curve in the final figure for showing the growth of $\\langle \\ell \\rangle(n)$. (This idea is _general_, meaning you can apply it to almost any model that produces a fluctuating signal, because of something called the Central Limit Theorem.)\n",
    "\n",
    "* Write a function `compute_MGD_Gnp(n,p,rep)` that takes as input the parameters of $G(n,p)$ and a number of *repetions* `rep`, and returns the average MGD over `rep` draws from $G(n,p)$. (This should be a wrapper around your function `compute_MGD()`.)\n",
    "* Apply your function with `n=256`, `c=2`, and `rep=10`, and report the results."
   ]
  },
  {
   "cell_type": "code",
   "execution_count": 7,
   "metadata": {},
   "outputs": [],
   "source": [
    "def compute_MGD_Gnp(n,p,rep):\n",
    "    # input : a number of nodes 'n', edge density parameter 'p', and number of repetitions 'rep'\n",
    "    # output: the mean geodesic path length of G(n,p), averaged over 'rep' instances\n",
    "    mean_MGD = 0\n",
    "\n",
    "\n",
    "    for i in range(rep):\n",
    "        mean_MGD += compute_MGD(nx.fast_gnp_random_graph(n, p))\n",
    "    return mean_MGD / rep"
   ]
  },
  {
   "cell_type": "code",
   "execution_count": 8,
   "metadata": {},
   "outputs": [
    {
     "name": "stdout",
     "output_type": "stream",
     "text": [
      "[ n=256 | c=2 | reps=10 ] <ell> =  6.98\n"
     ]
    }
   ],
   "source": [
    "n = 256\n",
    "c = 2\n",
    "rep = 10\n",
    "ellmean = compute_MGD_Gnp(n, c/(n-1), rep)\n",
    "\n",
    "##### do not modify below here #####\n",
    "print(f'[ n={n} | c={c} | reps={rep} ] <ell> = %5.2f' % ellmean)"
   ]
  },
  {
   "cell_type": "markdown",
   "metadata": {},
   "source": [
    "### Problem 1-D (20 pts) Putting it all together\n",
    "\n",
    "* Rewrite your numerical experiment so that it uses `compute_MGD_Gnp()` to compute a *good* estimate of $\\langle \\ell \\rangle$, for each choice of $n$ and $c$.\n",
    "* Expand your experiment to compute how $\\langle \\ell \\rangle$ grows as a function of $n$, for each of three mean degree values $c=\\{2,4,8\\}$.\n",
    "* Use $n=2^k$ for $k=\\{4,5,6,7,8,9,10,11,12,13\\}$. (This will take a while on your computer; plan accordingly)\n",
    "* Then, on one figure, plot\n",
    "  * the three data series from your simulations, and \n",
    "  * three *trend lines,* each of the form $b\\times \\log_{10} n + a$, one for each of the three data series. For each such trend line, choose a value $b$ that puts it visually very close to its data series. You may position these by hand, or by estimation using something like `np.polyfit`.\n",
    "* Finally, briefly discuss what you see about how $b$ varies with $c$, and give some intuition as to why this behavior makes sense given what we know about the structure of ER graphs.\n",
    "\n",
    "Hint 1: Separate the code for the experiment from the code for the visualization, so that you can tinker with the latter without having to re-run the former.\n",
    "\n",
    "Hint 2: Running the full experiment to completion will take a while on your computer (it took 4 hours on mine), so prototype the code and visualization using only a few, smaller values of $n$. Once you have the bugs worked out, then do the full range of $n$ while you sleep/get coffee/go for a hike/etc.\n",
    "\n",
    "\n",
    "(*5 pts extra credit*) Construct a second plot of $b$ vs. $c$ and describe the functional relationship between the two. To get a good view of it, you may need to consider additional values of $c$."
   ]
  },
  {
   "cell_type": "code",
   "execution_count": 9,
   "metadata": {},
   "outputs": [],
   "source": [
    "# YOUR CODE HERE (run the experiment)\n",
    "def compute_MGD_Gnp(n,p,rep):\n",
    "    ellavg = 0\n",
    "    for i in range(rep):\n",
    "        ellavg += compute_MGD(nx.fast_gnp_random_graph(n,p))\n",
    "    return ellavg / rep\n",
    "\n"
   ]
  },
  {
   "cell_type": "code",
   "execution_count": 10,
   "metadata": {},
   "outputs": [],
   "source": [
    "# YOUR CODE HERE (plotting the results)\n"
   ]
  },
  {
   "cell_type": "markdown",
   "metadata": {},
   "source": [
    "Your discussion here"
   ]
  },
  {
   "cell_type": "markdown",
   "metadata": {},
   "source": [
    "***\n",
    "***\n",
    "## Problem 2 : Does this random graph make my $\\langle \\ell \\rangle$ look big? (40 pts)\n",
    "\n",
    "In this question, you will use the ER and Chung-Lu random graph models as null models to investigate the degree to which edge density and/or degree distributions can *explain* observed patterns in a biological network.\n",
    "\n",
    "* Go to the [Index of Complex Networks](https://icon.colorado.edu/) (ICON) website, find the **P. pacificus nematode (2013)** entry, and download the `P.pacificus_neural.synaptic_1` network data file from the linked website. This file is in a `graphML` format, which is different from `GML`, but functionally is similar. `networkx` can read both."
   ]
  },
  {
   "cell_type": "markdown",
   "metadata": {},
   "source": [
    "### Problem 2-A (10 pts)\n",
    "\n",
    "To warm up, load the *P. pacificus* network and treat it as a simple graph (edges unweighted and undirected; no multi-edges; no self-loops). Then calculate and report\n",
    "* number of nodes $n$\n",
    "* (undirected) edges $m$\n",
    "* mean degree $\\langle k \\rangle$\n",
    "* clustering coefficient $C$\n",
    "* mean geodesic distance $\\langle \\ell \\rangle$\n",
    "* a `loglog` plot showing the degree distribution's CCDF $\\Pr(K\\geq k)$ (use `plot_CCDF()` from PS1)"
   ]
  },
  {
   "cell_type": "code",
   "execution_count": 37,
   "metadata": {},
   "outputs": [
    {
     "name": "stdout",
     "output_type": "stream",
     "text": [
      "reading the network file : p.pacificus_neural.synaptic_1.graphml\n",
      "\n",
      "[13, 14, 8, 9, 7, 13, 3, 1, 4, 2, 24, 2, 3, 13, 13, 10, 1, 2, 1, 1, 2, 13, 1, 1, 2, 1, 1, 1, 1, 8, 9, 13, 11, 6, 9, 7, 12, 1, 10, 5, 4, 3, 2, 1, 1, 1, 1, 2, 2, 1, 1, 2, 2, 1]\n"
     ]
    },
    {
     "data": {
      "image/png": "[encoded data removed]",
      "text/plain": [
       "<Figure size 432x288 with 1 Axes>"
      ]
     },
     "metadata": {
      "needs_background": "light"
     },
     "output_type": "display_data"
    },
    {
     "name": "stdout",
     "output_type": "stream",
     "text": [
      "number of nodes, n  = 54\n",
      "number of edges, m  = 141\n",
      "mean degree   , <k> =  5.22\n",
      "clustering coefficient, C     =  0.27\n",
      "mean geodesic distance, <ell> =  2.57\n"
     ]
    }
   ],
   "source": [
    "# this data set is from :\n",
    "# D.J. Bumbarger et al., \"System-wide Rewiring Underlies Behavioral Differences in \n",
    "#                         Predatory and Bacterial-Feeding Nematodes.\" Cell 152, 109-119 (2013)\n",
    "fname = 'p.pacificus_neural.synaptic_1.graphml'\n",
    "print(f'reading the network file : {fname}\\n')\n",
    "\n",
    "Gmulti = nx.read_graphml('./' + fname)  # Gmulti is a directed multigraph\n",
    "G = nx.Graph()                          # G will be a simple graph\n",
    "G.add_edges_from(Gmulti.edges())        # G is now a simplified Gmulti (tricky :)\n",
    "##### do not modify above here #####\n",
    "\n",
    "\n",
    "n = len(G.nodes)\n",
    "m = len(G.edges)\n",
    "\n",
    "k=[]\n",
    "kmax = 0\n",
    "for i in G.degree():\n",
    "    k.append( i[1])\n",
    "    \n",
    "kmean = np.sum(k) / n\n",
    "\n",
    "C = nx.transitivity(G)\n",
    "ellmean = nx.average_shortest_path_length(G)\n",
    "# CCDF plot\n",
    "print(k)\n",
    "kmax = np.max(k)\n",
    "\n",
    "def plot_CCDF(kis):\n",
    "    # input : a list of degrees, e.g., from a networkx graph G\n",
    "    # output: a plot of the CCDF of the degree distribution Pr(K>=k) for k>=1\n",
    "    kmax = max(kis)\n",
    "\n",
    "    #histogram and plot\n",
    "    counts, bins = np.histogram(kis, bins=[i for i in range(kmax+2)], density=True)\n",
    "    cumcounts = np.cumsum(counts)\n",
    "    cumcounts = np.insert(cumcounts,0,0)\n",
    "    plt.loglog(bins[1:-1], 1-cumcounts[1:-1], 'bo', alpha=0.5)\n",
    "    plt.xlabel('Degree, k')\n",
    "    plt.ylabel('Pr(K>=k)')\n",
    "    plt.show()\n",
    "    return\n",
    "\n",
    "plot_CCDF(k)\n",
    "\n",
    "##### do not modify below here #####\n",
    "print(f'number of nodes, n  = {n}')\n",
    "print(f'number of edges, m  = {m}')\n",
    "print(f'mean degree   , <k> = %5.2f' % kmean)\n",
    "print(f'clustering coefficient, C     = %5.2f' % C)\n",
    "print(f'mean geodesic distance, <ell> = %5.2f' % ellmean)"
   ]
  },
  {
   "cell_type": "markdown",
   "metadata": {},
   "source": [
    "### Problem 2-B (15 pts)\n",
    "\n",
    "Use the `Erdos-Renyi random graph model` to assess whether the values of $C$ and $\\langle \\ell \\rangle$ are large, small, typical, or usual, given the *P. pacificus* edge density. Specifically,\n",
    "* calculate and report the edge density _p_ for the *P. pacificus* network\n",
    "* using an appropriately parameterized ER model, tabulate\n",
    "  * the ER null distribution for $\\Pr(C)$ and the empirical value of $C$\n",
    "  * the ER null distribution for $\\Pr(\\langle \\ell \\rangle)$ and the empirical value of $\\langle \\ell \\rangle$\n",
    "* for each, use the given `plot_nullAndEmpirical()` function to compare the null and empirical values\n",
    "* briefly discuss how well edge density explains or fails to explain the empirical values\n",
    "\n",
    "Hint: to get a good null distribution, 200 networks should be sufficient."
   ]
  },
  {
   "cell_type": "code",
   "execution_count": 39,
   "metadata": {},
   "outputs": [],
   "source": [
    "def plot_nullAndEmpirical(nulls,emp,qlabel,nlabel,elabel,xlim,ylim):\n",
    "    # input: nulls, a list of values representing a null (reference) distribution\n",
    "    #        emp, the empirical value to be compared to the null\n",
    "    #        qlabel [string], the name of the empirical quantity, e.g., '<ell>' or 'C'\n",
    "    #        nlabel [string], the name of the null data series\n",
    "    #        elabel [string], the name of the empirical data source\n",
    "    #        xlim [scalar], the upper limit of the x-axis\n",
    "    #        ylim [scalar], the upper limit of the y-axis\n",
    "\n",
    "    counts, bins = np.histogram(nulls,bins=50,range=(0,xlim), density=True)\n",
    "    nreps = len(nulls)\n",
    "\n",
    "    fig = plt.figure()\n",
    "    ax1 = fig.add_subplot(111) # put multiple \n",
    "    plt.plot(bins[:-1], counts/100, 'b-', alpha=0.5, label=nlabel)\n",
    "    plt.plot([emp, emp], [0, ylim], 'r-', alpha=0.5, label=elabel)\n",
    "    plt.xlabel(qlabel)\n",
    "    plt.ylabel('Pr('+qlabel+')')\n",
    "    plt.xlim(0, xlim)\n",
    "    plt.legend(loc='upper right');\n",
    "    plt.show()\n",
    "    \n",
    "    return"
   ]
  },
  {
   "cell_type": "code",
   "execution_count": 51,
   "metadata": {},
   "outputs": [
    {
     "name": "stdout",
     "output_type": "stream",
     "text": [
      "Density of Synapse Network for P. pacficus 0.09853249475890985\n"
     ]
    },
    {
     "data": {
      "image/png": "[encoded data removed]",
      "text/plain": [
       "<Figure size 432x288 with 1 Axes>"
      ]
     },
     "metadata": {},
     "output_type": "display_data"
    },
    {
     "data": {
      "image/png": "[encoded data removed]",
      "text/plain": [
       "<Figure size 432x288 with 1 Axes>"
      ]
     },
     "metadata": {
      "needs_background": "light"
     },
     "output_type": "display_data"
    },
    {
     "data": {
      "image/png": "[encoded data removed]",
      "text/plain": [
       "<Figure size 432x288 with 1 Axes>"
      ]
     },
     "metadata": {
      "needs_background": "light"
     },
     "output_type": "display_data"
    }
   ],
   "source": [
    "Cs   = []  # store the null values of C here\n",
    "ells = []  # store the null values of ellmean here\n",
    "##### do not modify above here #####\n",
    "n = len(G.nodes)\n",
    "\n",
    "Dens = nx.density(G)\n",
    "print(\"Density of Synapse Network for P. pacficus\", Dens)\n",
    "\n",
    "n_networks = 200 #num random graphs\n",
    "for i in range(n_networks): \n",
    "    #Create ER\n",
    "    ER_graph = nx.fast_gnp_random_graph(n, Dens)\n",
    "    ells.append(compute_MGD(ER_graph))\n",
    "    Cs.append(nx.transitivity(ER_graph))\n",
    "    if i == 199:\n",
    "        nx.draw_networkx(ER_graph, arrows=True, with_labels=False, node_size=100, node_color='b',width=2) # draw it pretty\n",
    "    \n",
    "##### do not modify below here #####\n",
    "plot_nullAndEmpirical(Cs,C,'C','Erdos-Renyi graphs','P. pacificus',0.5,0.12)\n",
    "plot_nullAndEmpirical(ells,ellmean,'<ell>','Erdos-Renyi graphs','P. pacificus',5,0.022)"
   ]
  },
  {
   "cell_type": "code",
   "execution_count": 48,
   "metadata": {},
   "outputs": [
    {
     "data": {
      "image/png": "[encoded data removed]",
      "text/plain": [
       "<Figure size 432x288 with 1 Axes>"
      ]
     },
     "metadata": {},
     "output_type": "display_data"
    }
   ],
   "source": [
    "nx.draw_networkx(G, arrows=True, with_labels=False, node_size=100, node_color='r',width=2) # draw it pretty\n"
   ]
  },
  {
   "cell_type": "markdown",
   "metadata": {},
   "source": [
    "Your discussion here"
   ]
  },
  {
   "cell_type": "markdown",
   "metadata": {},
   "source": [
    "### Problem 2-C (5 pts)\n",
    "\n",
    "Before we use the `Chung-Lu random graph model` to assess whether the *P. pacificus* values of $C$ and $\\langle \\ell \\rangle$ are large, small, typical, or unusual:\n",
    "* Use the `expected_degree_graph()` function in `networkx` to take the degree sequence of the *P. pacificus* network and generate a single simple Chung-Lu graph $G$ with no self-loops.\n",
    "* Then, create simple ridiculogram visualizations of this network and of the empirical *P. pacificus* network.\n",
    "* For both, note the number of edges each graph contains.\n",
    "* Comment briefly on what similarities or differences you observe between these two visualizations."
   ]
  },
  {
   "cell_type": "code",
   "execution_count": null,
   "metadata": {},
   "outputs": [],
   "source": [
    "# YOUR CODE HERE\n",
    "\n"
   ]
  },
  {
   "cell_type": "markdown",
   "metadata": {},
   "source": [
    "Your discussion here"
   ]
  },
  {
   "cell_type": "markdown",
   "metadata": {},
   "source": [
    "### Problem 2-D (10 pts)\n",
    "\n",
    "Now, write a wrapper around your Chung-Lu graph generator that replicates the work of your answer to `Problem 1-D`, and thereby assess whether the values of $C$ and $\\langle \\ell \\rangle$ are large, small, typical, or unusual, given the *P. pacificus* degree structure. Specifically,\n",
    "* using an appropriately parameterized Chung-Lu model, tabulate and plot\n",
    "  * the Chung-Lu null distribution for $\\Pr(C)$ and the empirical value of $C$\n",
    "  * the Chung-Lu null distribution for $\\Pr(\\langle \\ell \\rangle)$ and the empirical value of $\\langle \\ell \\rangle$\n",
    "* briefly discuss how well the degree structure explains or fails to explain the empirical values, and how accounting for degree structure changes the null distributions\n",
    "\n",
    "Hint: to get a good null distribution, 200 networks should be sufficient."
   ]
  },
  {
   "cell_type": "code",
   "execution_count": null,
   "metadata": {},
   "outputs": [],
   "source": [
    "Cs   = []  # store the null values of C here\n",
    "ells = []  # store the null values of ellmean here\n",
    "##### do not modify above here #####\n",
    "\n",
    "\n",
    "# YOUR CODE HERE\n",
    "\n",
    "\n",
    "##### do not modify below here #####\n",
    "plot_nullAndEmpirical(Cs,C,'C','Chung-Lu graphs','P. pacificus',0.5,0.12)\n",
    "plot_nullAndEmpirical(ells,ellmean,'<ell>','Chung-Lu graphs','P. pacificus',5,0.022)"
   ]
  },
  {
   "cell_type": "markdown",
   "metadata": {},
   "source": [
    "Your discussion here"
   ]
  },
  {
   "cell_type": "markdown",
   "metadata": {},
   "source": [
    "***\n",
    "***\n",
    "\n",
    "## Problem 3 : Reading the literature (*10 pts extra credit*)\n",
    "\n",
    "*This extra credit problem is meant to help you look for a project topic*\n",
    "\n",
    "Choose a paper from the [Supplemental Reading list on the external course webpage](https://aaronclauset.github.io/courses/3352/). Read the paper (the whole paper, not just the abstract). Think about what it says. Then, write 1-3 sentences for each of the following questions in a way that clearly summarizes the work, and its context.\n",
    "* What was the research question?\n",
    "* What was the approach the authors took to answer that question?\n",
    "* What did they do well?\n",
    "* What could they have done better?\n",
    "* What extensions can you envision?\n",
    "\n",
    "\n",
    "Do not copy any text from the paper itself; write your own summary, in your own words in Markdown in the corresponding box below. Be sure to answer each of the five questions. The amount of extra credit will depend on the accuracy and thoughtfulness of your answers."
   ]
  },
  {
   "cell_type": "markdown",
   "metadata": {},
   "source": [
    "* *What paper did you choose?*<br/>\n",
    "Give the Authors, Title, Publication Venue, Year\n",
    "<br/>\n",
    "\n",
    "\n",
    "* *What was the research question?*<br/>\n",
    "Your answer here\n",
    "<br/>\n",
    "\n",
    "* *What was the approach the authors took to answer that question?*<br/>\n",
    "Your answer here\n",
    "<br/>\n",
    "\n",
    "* *What did they do well?*<br/>\n",
    "Your answer here\n",
    "<br/>\n",
    "\n",
    "* *What could they have done better?*<br/>\n",
    "Your answer here\n",
    "<br/>\n",
    "\n",
    "* *What extensions can you envision?*<br/>\n",
    "Your answer here"
   ]
  },
  {
   "cell_type": "code",
   "execution_count": null,
   "metadata": {},
   "outputs": [],
   "source": []
  }
 ],
 "metadata": {
  "kernelspec": {
   "display_name": "Python 3.10.5",
   "language": "python",
   "name": "python3"
  },
  "language_info": {
   "codemirror_mode": {
    "name": "ipython",
    "version": 3
   },
   "file_extension": ".py",
   "mimetype": "text/x-python",
   "name": "python",
   "nbconvert_exporter": "python",
   "pygments_lexer": "ipython3",
   "version": "3.10.5"
  },
  "vscode": {
   "interpreter": {
    "hash": "2d8eb5f0b2d1a671b125662acba05eb56e47a909e2cbb43cb4ed44d16297229b"
   }
  }
 },
 "nbformat": 4,
 "nbformat_minor": 2
}
